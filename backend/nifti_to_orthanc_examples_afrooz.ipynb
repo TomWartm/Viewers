{
 "cells": [
  {
   "cell_type": "code",
   "execution_count": 1,
   "metadata": {},
   "outputs": [],
   "source": [
    "from dicom_helpers import nifti_to_dicom, add_metadata_to_series, add_metadata_to_study"
   ]
  },
  {
   "cell_type": "markdown",
   "metadata": {},
   "source": [
    "## 1. Nodules"
   ]
  },
  {
   "cell_type": "markdown",
   "metadata": {},
   "source": [
    "### Generated"
   ]
  },
  {
   "cell_type": "code",
   "execution_count": 12,
   "metadata": {},
   "outputs": [
    {
     "name": "stdout",
     "output_type": "stream",
     "text": [
      "Store DICOM files in Folder: ../data/nifti/examples/5_1_1_sample_0\n",
      "Conversion complete. DICOM files are saved in ../data/nifti/examples/5_1_1_sample_0\n",
      "Uploading DICOM folder to Orthanc...\n",
      "Files Uploaded to Orthanc Server Localhost\n",
      "c134cb7b-f1d2f7ba-d287a157-b8b6b141-9d1115cd\n"
     ]
    }
   ],
   "source": [
    "prompt=\"There is no nodule in the right upper lobe\"\n",
    "description=\"Nodule\"\n",
    "nifti_file = '../data/nifti/examples/5_1_1_sample_0.nii.gz'\n",
    "nifti_to_dicom(nifti_file=nifti_file,\n",
    "               series_description=\"no, right upper\", \n",
    "               modality = \"AI\",\n",
    "               study_instance_uid='5.1',\n",
    "               series_instance_uid='5.1.1',\n",
    "               study_id='1', \n",
    "               patient_name=\"Nodules\",\n",
    "               patient_id=\"patient_nodule\",\n",
    "               description=description,\n",
    ")\n",
    "add_metadata_to_series('5.1.1', prompt, 'SeriesPrompt')"
   ]
  },
  {
   "cell_type": "code",
   "execution_count": 3,
   "metadata": {},
   "outputs": [
    {
     "name": "stdout",
     "output_type": "stream",
     "text": [
      "Store DICOM files in Folder: ../data/nifti/examples/5_1_2_sample_0\n",
      "Conversion complete. DICOM files are saved in ../data/nifti/examples/5_1_2_sample_0\n",
      "Uploading DICOM folder to Orthanc...\n",
      "Files Uploaded to Orthanc Server Localhost\n",
      "e28698e4-adb0ca59-6e2b240f-69fc9c61-e1177bcb\n"
     ]
    }
   ],
   "source": [
    "prompt=\"There is a 5 mm nodule in the right upper lobe\"\n",
    "description=\"Nodule\"\n",
    "nifti_file = '../data/nifti/examples/5_1_2_sample_0.nii.gz'\n",
    "nifti_to_dicom(nifti_file=nifti_file,\n",
    "               series_description=\"5mm, right upper\", \n",
    "               modality = \"AI\",\n",
    "               study_instance_uid='5.1',\n",
    "               series_instance_uid='5.1.2',\n",
    "               study_id='2', \n",
    "               patient_name=\"Nodules\",\n",
    "               patient_id=\"patient_nodule\",\n",
    "               description=description,\n",
    ")\n",
    "add_metadata_to_series('5.1.2', prompt, 'SeriesPrompt')"
   ]
  },
  {
   "cell_type": "code",
   "execution_count": 4,
   "metadata": {},
   "outputs": [
    {
     "name": "stdout",
     "output_type": "stream",
     "text": [
      "Store DICOM files in Folder: ../data/nifti/examples/5_1_3_sample_0\n",
      "Conversion complete. DICOM files are saved in ../data/nifti/examples/5_1_3_sample_0\n",
      "Uploading DICOM folder to Orthanc...\n",
      "Files Uploaded to Orthanc Server Localhost\n",
      "94f260c6-b78a837e-1b93d20a-81ad1e10-9dd7e6f5\n"
     ]
    }
   ],
   "source": [
    "prompt=\"There is a 5 mm nodule in the right lower lobe\"\n",
    "description=\"Nodule\"\n",
    "nifti_file = '../data/nifti/examples/5_1_3_sample_0.nii.gz'\n",
    "nifti_to_dicom(nifti_file=nifti_file,\n",
    "               series_description=\"5mm, right lower\", \n",
    "               modality = \"AI\",\n",
    "               study_instance_uid='5.1',\n",
    "               series_instance_uid='5.1.3',\n",
    "               study_id='3', \n",
    "               patient_name=\"Nodules\",\n",
    "               patient_id=\"patient_nodule\",\n",
    "               description=description,\n",
    ")\n",
    "add_metadata_to_series('5.1.3', prompt, 'SeriesPrompt')"
   ]
  },
  {
   "cell_type": "code",
   "execution_count": 5,
   "metadata": {},
   "outputs": [
    {
     "name": "stdout",
     "output_type": "stream",
     "text": [
      "Store DICOM files in Folder: ../data/nifti/examples/5_1_4_sample_0\n",
      "Conversion complete. DICOM files are saved in ../data/nifti/examples/5_1_4_sample_0\n",
      "Deleted Study: b965d1d6-1fc6850d-683946b1-8b9b11a7-91e673a8\n",
      "Uploading DICOM folder to Orthanc...\n",
      "Files Uploaded to Orthanc Server Localhost\n",
      "b965d1d6-1fc6850d-683946b1-8b9b11a7-91e673a8\n"
     ]
    }
   ],
   "source": [
    "prompt=\"There is a 5 mm nodule in the left upper lobe\"\n",
    "description=\"Nodule\"\n",
    "nifti_file = '../data/nifti/examples/5_1_4_sample_0.nii.gz'\n",
    "nifti_to_dicom(nifti_file=nifti_file,\n",
    "               series_description=\"5mm, left upper\", \n",
    "               modality = \"AI\",\n",
    "               study_instance_uid='5.1',\n",
    "               series_instance_uid='5.1.4',\n",
    "               study_id='4', \n",
    "               patient_name=\"Nodules\",\n",
    "               patient_id=\"patient_nodule\",\n",
    "               description=description,\n",
    ")\n",
    "add_metadata_to_series('5.1.4', prompt, 'SeriesPrompt')"
   ]
  },
  {
   "cell_type": "code",
   "execution_count": 6,
   "metadata": {},
   "outputs": [
    {
     "name": "stdout",
     "output_type": "stream",
     "text": [
      "Store DICOM files in Folder: ../data/nifti/examples/5_1_5_sample_0\n",
      "Conversion complete. DICOM files are saved in ../data/nifti/examples/5_1_5_sample_0\n",
      "Uploading DICOM folder to Orthanc...\n",
      "Files Uploaded to Orthanc Server Localhost\n",
      "8916b0b0-50f78d38-1adcb2fd-25750f8f-b148b971\n"
     ]
    }
   ],
   "source": [
    "prompt=\"There is a 15 mm nodule in the right upper lobe\"\n",
    "description=\"Nodule\"\n",
    "nifti_file = '../data/nifti/examples/5_1_5_sample_0.nii.gz'\n",
    "nifti_to_dicom(nifti_file=nifti_file,\n",
    "               series_description=\"15mm, right upper\", \n",
    "               modality = \"AI\",\n",
    "               study_instance_uid='5.1',\n",
    "               series_instance_uid='5.1.5',\n",
    "               study_id='5', \n",
    "               patient_name=\"Nodules\",\n",
    "               patient_id=\"patient_nodule\",\n",
    "               description=description,\n",
    ")\n",
    "add_metadata_to_series('5.1.5', prompt, 'SeriesPrompt')"
   ]
  },
  {
   "cell_type": "code",
   "execution_count": 7,
   "metadata": {},
   "outputs": [
    {
     "name": "stdout",
     "output_type": "stream",
     "text": [
      "Store DICOM files in Folder: ../data/nifti/examples/5_1_6_sample_0\n",
      "Conversion complete. DICOM files are saved in ../data/nifti/examples/5_1_6_sample_0\n",
      "Uploading DICOM folder to Orthanc...\n",
      "Files Uploaded to Orthanc Server Localhost\n",
      "d3c49eab-e63e899a-2517eb4b-956294be-e89d55e1\n"
     ]
    }
   ],
   "source": [
    "prompt=\"There is a 25 mm nodule in the right upper lobe\"\n",
    "description=\"Nodule\"\n",
    "nifti_file = '../data/nifti/examples/5_1_6_sample_0.nii.gz'\n",
    "nifti_to_dicom(nifti_file=nifti_file,\n",
    "               series_description=\"25mm, right upper\", \n",
    "               modality = \"AI\",\n",
    "               study_instance_uid='5.1',\n",
    "               series_instance_uid='5.1.6',\n",
    "               study_id='6', \n",
    "               patient_name=\"Nodules\",\n",
    "               patient_id=\"patient_nodule\",\n",
    "               description=description,\n",
    ")\n",
    "add_metadata_to_series('5.1.6', prompt, 'SeriesPrompt')"
   ]
  },
  {
   "cell_type": "code",
   "execution_count": 8,
   "metadata": {},
   "outputs": [
    {
     "name": "stdout",
     "output_type": "stream",
     "text": [
      "Store DICOM files in Folder: ../data/nifti/examples/5_1_7_sample_0\n",
      "Conversion complete. DICOM files are saved in ../data/nifti/examples/5_1_7_sample_0\n",
      "Uploading DICOM folder to Orthanc...\n",
      "Files Uploaded to Orthanc Server Localhost\n",
      "3ea645f8-01fb3db8-be06219e-91b2ff3a-2ef8884d\n"
     ]
    }
   ],
   "source": [
    "prompt=\"There is a large nodule in the right upper lobe\"\n",
    "description=\"Nodule\"\n",
    "nifti_file = '../data/nifti/examples/5_1_7_sample_0.nii.gz'\n",
    "nifti_to_dicom(nifti_file=nifti_file,\n",
    "               series_description=\"large, right upper\", \n",
    "               modality = \"AI\",\n",
    "               study_instance_uid='5.1',\n",
    "               series_instance_uid='5.1.7',\n",
    "               study_id='7', \n",
    "               patient_name=\"Nodules\",\n",
    "               patient_id=\"patient_nodule\",\n",
    "               description=description,\n",
    ")\n",
    "add_metadata_to_series('5.1.7', prompt, 'SeriesPrompt')"
   ]
  },
  {
   "cell_type": "code",
   "execution_count": 9,
   "metadata": {},
   "outputs": [
    {
     "name": "stdout",
     "output_type": "stream",
     "text": [
      "Store DICOM files in Folder: ../data/nifti/examples/5_1_8_sample_0\n",
      "Conversion complete. DICOM files are saved in ../data/nifti/examples/5_1_8_sample_0\n",
      "Uploading DICOM folder to Orthanc...\n",
      "Files Uploaded to Orthanc Server Localhost\n",
      "a6e4d444-6ed8dce5-0a267288-f8e058d1-ab14b5f5\n"
     ]
    }
   ],
   "source": [
    "prompt=\"There is a small nodule in the right upper lobe\"\n",
    "description=\"Nodule\"\n",
    "nifti_file = '../data/nifti/examples/5_1_8_sample_0.nii.gz'\n",
    "nifti_to_dicom(nifti_file=nifti_file,\n",
    "               series_description=\"small, right upper\", \n",
    "               modality = \"AI\",\n",
    "               study_instance_uid='5.1',\n",
    "               series_instance_uid='5.1.8',\n",
    "               study_id='8', \n",
    "               patient_name=\"Nodules\",\n",
    "               patient_id=\"patient_nodule\",\n",
    "               description=description,\n",
    ")\n",
    "add_metadata_to_series('5.1.8', prompt, 'SeriesPrompt')"
   ]
  },
  {
   "cell_type": "code",
   "execution_count": 10,
   "metadata": {},
   "outputs": [
    {
     "name": "stdout",
     "output_type": "stream",
     "text": [
      "Store DICOM files in Folder: ../data/nifti/examples/5_1_9_sample_0\n",
      "Conversion complete. DICOM files are saved in ../data/nifti/examples/5_1_9_sample_0\n",
      "Uploading DICOM folder to Orthanc...\n",
      "Files Uploaded to Orthanc Server Localhost\n",
      "be47a6d5-698dd15c-1488fa10-51058142-5ddca6f0\n"
     ]
    }
   ],
   "source": [
    "prompt=\"There is one nodule in the right upper lobe\"\n",
    "description=\"Nodule\"\n",
    "nifti_file = '../data/nifti/examples/5_1_9_sample_0.nii.gz'\n",
    "nifti_to_dicom(nifti_file=nifti_file,\n",
    "               series_description=\"one, right upper\", \n",
    "               modality = \"AI\",\n",
    "               study_instance_uid='5.1',\n",
    "               series_instance_uid='5.1.9',\n",
    "               study_id='9', \n",
    "               patient_name=\"Nodules\",\n",
    "               patient_id=\"patient_nodule\",\n",
    "               description=description,\n",
    ")\n",
    "add_metadata_to_series('5.1.9', prompt, 'SeriesPrompt')"
   ]
  },
  {
   "cell_type": "code",
   "execution_count": 11,
   "metadata": {},
   "outputs": [
    {
     "name": "stdout",
     "output_type": "stream",
     "text": [
      "Store DICOM files in Folder: ../data/nifti/examples/5_1_10_sample_0\n",
      "Conversion complete. DICOM files are saved in ../data/nifti/examples/5_1_10_sample_0\n",
      "Uploading DICOM folder to Orthanc...\n",
      "Files Uploaded to Orthanc Server Localhost\n",
      "0f9570ea-8589e29a-4cfebad8-e582d514-7ba3cdb1\n"
     ]
    }
   ],
   "source": [
    "prompt=\"There are multiple nodules in the right upper lobe\"\n",
    "description=\"Nodule\"\n",
    "nifti_file = '../data/nifti/examples/5_1_10_sample_0.nii.gz'\n",
    "nifti_to_dicom(nifti_file=nifti_file,\n",
    "               series_description=\"multiple, right upper\", \n",
    "               modality = \"AI\",\n",
    "               study_instance_uid='5.1',\n",
    "               series_instance_uid='5.1.10',\n",
    "               study_id='10', \n",
    "               patient_name=\"Nodules\",\n",
    "               patient_id=\"patient_nodule\",\n",
    "               description=description,\n",
    ")\n",
    "add_metadata_to_series('5.1.10', prompt, 'SeriesPrompt')"
   ]
  }
 ],
 "metadata": {
  "kernelspec": {
   "display_name": "viewer",
   "language": "python",
   "name": "python3"
  },
  "language_info": {
   "codemirror_mode": {
    "name": "ipython",
    "version": 3
   },
   "file_extension": ".py",
   "mimetype": "text/x-python",
   "name": "python",
   "nbconvert_exporter": "python",
   "pygments_lexer": "ipython3",
   "version": "3.12.4"
  }
 },
 "nbformat": 4,
 "nbformat_minor": 2
}
