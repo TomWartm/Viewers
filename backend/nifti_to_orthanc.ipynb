{
  "cells": [
    {
      "cell_type": "code",
      "execution_count": 57,
      "metadata": {},
      "outputs": [],
      "source": [
        "import nibabel as nib\n",
        "import pydicom\n",
        "import numpy as np\n",
        "import os\n",
        "from pydicom.dataset import Dataset, FileDataset\n",
        "from datetime import datetime\n",
        "from pydicom.uid import generate_uid\n",
        "import matplotlib.pyplot as plt\n",
        "import requests\n",
        "import simple_orthanc\n",
        "\n",
        "\n",
        "\n",
        "\n",
        "def delete_series(series_to_delete, orthanc_url='http://localhost:8042'):\n",
        "    series_url = f\"{orthanc_url}/series/\"\n",
        "    params = {}\n",
        "    params['expand'] = True\n",
        "    params['requestedTags'] = \"SeriesInstanceUID\"\n",
        "\n",
        "    \n",
        "    series_response = requests.get(series_url, params)\n",
        "\n",
        "    series_id = [entry['ID'] for entry in series_response.json() if entry.get('RequestedTags', {}).get('SeriesInstanceUID') == series_to_delete]\n",
        "    for serie_id in series_id:\n",
        "        serie_response = requests.delete(f\"{orthanc_url}/series/\"+serie_id)\n",
        "        if serie_response.status_code != 200:\n",
        "            print(f\"Failed to retrieve patient information. Status code: {serie_response.status_code}\")\n",
        "            print(f\"Response: {serie_response.text}\")\n",
        "            return\n",
        "        print(f\"Deleted Study: {serie_id}\")\n",
        "\n",
        "\n",
        "def upload_dicom_folder(dicom_folder):\n",
        "    # Initialize the Orthanc client\n",
        "    orthanc = simple_orthanc.Orthanc()\n",
        "\n",
        "    \n",
        "    orthanc.upload_folder(dicom_folder, test_dicom=True, recursive=True)\n",
        "\n",
        "\n",
        "\n",
        "\n",
        "\n",
        "def nifti_to_dicom(nifti_file,\n",
        "    output_folder,\n",
        "    series_description,\n",
        "    series_instance_uid=generate_uid(), # should be different for each image\n",
        "    series_number=\"1\",\n",
        "    reference_dicom_file = \"../data/dicom/real/extensive-consolidation-v2-sampl/image.0001.dcm\",\n",
        "    modality='CT',\n",
        "    study_instance_uid = '1', # should be the same for each study (for AI/non-AI)\n",
        "    study_id='1', # should be the same for AI/non-AI\n",
        "    accession_number = '1', # should be the same for AI/non-AI\n",
        "    patient_name=\"Generative AI Patient\",\n",
        "    patient_id=\"MedSyn\",\n",
        "    description=\"\",\n",
        "\n",
        "    ):\n",
        "    rotate=\"\"\n",
        "    if modality=='AI':\n",
        "        content_date=\"\"\n",
        "        rotate=\"counterclockwise\"\n",
        "    else:\n",
        "        content_date = str(datetime.now().date()).replace('-', '')\n",
        "        rotate=\"clockwise\"\n",
        "\n",
        "    # Load the NIfTI file\n",
        "    img = nib.load(nifti_file)\n",
        "    data = img.get_fdata()\n",
        "    affine = img.affine\n",
        "\n",
        "    # Ensure output folder exists\n",
        "    if not os.path.exists(output_folder):\n",
        "        os.makedirs(output_folder)\n",
        "\n",
        "    # Initialize common dataset attributes\n",
        "    ds = pydicom.dcmread(reference_dicom_file)\n",
        "    ds.PatientName = patient_name\n",
        "    ds.PatientID = patient_id\n",
        "    ds.AccessionNumber = accession_number\n",
        "    ds.StudyInstanceUID = study_instance_uid\n",
        "    ds.SeriesInstanceUID = series_instance_uid\n",
        "    ds.SeriesDescription= series_description\n",
        "    ds.Modality = modality\n",
        "    ds.SeriesNumber = series_number\n",
        "    ds.StudyID = study_id\n",
        "    ds.StudyDescription = description\n",
        "    ds.Manufacturer = \"PythonDicomConversion\"\n",
        "    ds.Rows, ds.Columns = data.shape[:2]\n",
        "    ds.SliceThickness = float(affine[2, 2])\n",
        "\n",
        "    ds.SamplesPerPixel = 1\n",
        "    ds.BitsAllocated = 16\n",
        "    ds.BitsStored = 16\n",
        "    ds.HighBit = 15\n",
        "    ds.PixelRepresentation = 1  # 1 means signed integers\n",
        "\n",
        "\n",
        "\n",
        "\n",
        "    # Set additional metadata\n",
        "    ds.ContentDate = content_date\n",
        "    ds.ContentTime = \"\"\n",
        "\n",
        "    ds.StudyDate = ds.ContentDate\n",
        "    ds.StudyTime = ds.ContentTime\n",
        "    ds.PatientSex = \"O\"\n",
        "    ds.PatientBirthDate = \"19000101\"\n",
        "\n",
        "    print(f\"Min of data: {np.min(data)}\")\n",
        "    print(f\"Max of data: {np.max(data)}\")\n",
        "\n",
        "    # Scale pixel data if necessary (e.g., to avoid issues with pixel value ranges)\n",
        "    #data = data - np.min(data)\n",
        "    #data = data / np.max(data) * (3000)\n",
        "    \n",
        "    # norm the HUE data between -1000, and 1000\n",
        "    data = (data - np.min(data)) / (np.max(data) - np.min(data)) * 4000 - 2000\n",
        "    data = data.astype('int16')\n",
        "\n",
        "    # reverse in 3rd axis\n",
        "    #data = data[:,:,::-1]\n",
        "    # Rotate each slice to the left (90 degrees counterclockwise)\n",
        "    if rotate == \"counterclockwise\":\n",
        "        data = np.rot90(data, k=1, axes=(0, 1))\n",
        "    elif rotate == \"clockwise\":\n",
        "        data = np.rot90(data, k=3, axes=(0, 1))\n",
        "        \n",
        "    \n",
        "    #print(data)\n",
        "    # Iterate over each slice and update the dataset\n",
        "    for i in range(data.shape[2]):\n",
        "        slice_data = data[:, :, -(i+1)]\n",
        "\n",
        "        # Update slice-specific attributes\n",
        "        ds.SOPInstanceUID= generate_uid()\n",
        "        ds.InstanceNumber = i + 1\n",
        "        ds.ImagePositionPatient = [0,0,-i] \n",
        "        ds.SliceLocation = i * ds.SliceThickness\n",
        "\n",
        "\n",
        "\n",
        "        # Convert pixel data to the appropriate type and flatten the array\n",
        "        ds.PixelData = slice_data.tobytes()\n",
        "\n",
        "        # Visualize the slice\n",
        "        # plt.imshow(slice_data, cmap='gray')\n",
        "        # plt.title(f'Slice {i}')\n",
        "        # plt.show()\n",
        "\n",
        "        # Save the DICOM file\n",
        "        dicom_filename = os.path.join(output_folder, f\"slice_{i:03d}.dcm\")\n",
        "        ds.save_as(dicom_filename)\n",
        "\n",
        "    print(f\"Conversion complete. DICOM files are saved in {output_folder}\")\n",
        "\n",
        "    # delete if there is already a study for this patient\n",
        "    delete_series(series_to_delete=series_instance_uid)\n",
        "    \n",
        "    upload_dicom_folder(output_folder)\n",
        "    print(\"Files Uploaded to Orthanc Server Localhost\")\n"
      ]
    },
    {
      "cell_type": "code",
      "execution_count": 58,
      "metadata": {},
      "outputs": [],
      "source": [
        "import json\n",
        "\n",
        "def store_metadata(series_instance_uid, metadata, json_file_path=\"../data/init_metadata.json\"):\n",
        "    # Load the existing JSON file\n",
        "    with open(json_file_path, 'r') as json_file:\n",
        "        data = json.load(json_file)\n",
        "\n",
        "    # Add or override the entry\n",
        "    data[series_instance_uid] = metadata\n",
        "\n",
        "    # Write the updated data back to the JSON file\n",
        "    with open(json_file_path, 'w') as json_file:\n",
        "        json.dump(data, json_file, indent=4)\n",
        "\n",
        "    print(f\"Entry with study_instance_uid {series_instance_uid} added or updated.\")"
      ]
    },
    {
      "cell_type": "markdown",
      "metadata": {},
      "source": [
        "# CT-Rate\n"
      ]
    },
    {
      "cell_type": "markdown",
      "metadata": {},
      "source": [
        "## Example 1\n",
        "- Arterial wall calcification\n",
        "- Atelectasis\n",
        "- Lung opacity\n",
        "- Consolidation"
      ]
    },
    {
      "cell_type": "markdown",
      "metadata": {},
      "source": [
        "### Original\n"
      ]
    },
    {
      "cell_type": "code",
      "execution_count": 59,
      "metadata": {},
      "outputs": [
        {
          "name": "stdout",
          "output_type": "stream",
          "text": [
            "Min of data: 0.0\n",
            "Max of data: 16270.0\n",
            "Conversion complete. DICOM files are saved in ../data/nifti/ct-rate/train/train_1_a_1/original/\n",
            "Deleted Study: 9a4454ac-bc732adf-25c4a3af-10c77925-9de83335\n",
            "Files Uploaded to Orthanc Server Localhost\n",
            "Entry with study_instance_uid 1.1 added or updated.\n"
          ]
        }
      ],
      "source": [
        "findings = \"Multiple venous collaterals are present in the anterior left chest wall and are associated with the anterior jugular vein at the level of the right sternoclavicular junction. Left subclavian vein collapsed (chronic occlusion pathology?). Trachea, both main bronchi are open. Calcific plaques are observed in the aortic arch. Other mediastinal main vascular structures, heart contour, size are normal. Thoracic aorta diameter is normal. Pericardial effusion-thickening was not observed. Thoracic esophagus calibration was normal and no significant tumoral wall thickening was detected. No enlarged lymph nodes in prevascular, pre-paratracheal, subcarinal or bilateral hilar-axillary pathological dimensions were detected. When examined in the lung parenchyma window; Linear atelectasis is present in both lung parenchyma. Subsegmental atelectasis is observed in the right middle lobe. Thickening of the bronchial wall and peribronchial budding tree-like reticulonodular densities are observed in the bilateral lower lobes. Peribronchial minimal consolidation is seen in the lower lobes in places. The findings were evaluated primarily in favor of the infectious process. The left kidney partially entering the section is atrophic. The right kidney could not be evaluated because it did not enter the section. Other upper abdominal organs included in the sections are normal. No space-occupying lesion was detected in the liver that entered the cross-sectional area. Bilateral adrenal glands were normal and no space-occupying lesion was detected. There are osteophytes with anterior extension in the thoracic vertebrae.\"\n",
        "impressions=\"Multiple venous collaterals in the anterior left chest wall and collapsed appearance in the left subclavian vein (chronic occlusion?).  Thickening of the bronchial wall in both lungs.  Peribronchial reticulonodular densities in the lower lobes, minimal consolidations (infection process?).  Atelectasis in both lungs.  Thoracic spondylosis.\"\n",
        "description=\"Arterial wall calcification, Atelectasis, Lung opacity, Consolidation\"\n",
        "nifti_file = '../data/nifti/ct-rate/train/train_1_a_1.nii.gz'\n",
        "output_folder = '../data/nifti/ct-rate/train/train_1_a_1/original/'\n",
        "nifti_to_dicom(nifti_file=nifti_file, \n",
        "               output_folder=output_folder,\n",
        "               series_description=\"Original\", \n",
        "               modality = \"CT\",\n",
        "               study_instance_uid='1.1',\n",
        "               series_instance_uid='1.1.1',\n",
        "               study_id='1', \n",
        "               accession_number='1.1',\n",
        "               patient_name=\"Example Patient 1\",\n",
        "               patient_id=\"train_1_a_1\",\n",
        "               description=description,\n",
        "               )\n",
        "store_metadata(series_instance_uid='1.1',metadata={\"initial_report\":impressions})\n"
      ]
    },
    {
      "cell_type": "markdown",
      "metadata": {},
      "source": [
        "### Generated"
      ]
    },
    {
      "cell_type": "code",
      "execution_count": 60,
      "metadata": {},
      "outputs": [
        {
          "name": "stdout",
          "output_type": "stream",
          "text": [
            "Min of data: 0.0\n",
            "Max of data: 1.0\n",
            "Conversion complete. DICOM files are saved in ../data/nifti/ct-rate/train/train_1_a_1/generated/train_1_a_1_sample_0/\n",
            "Deleted Study: 97265e43-0d353c37-3d27a9a5-05c2541d-fdd188b8\n",
            "Files Uploaded to Orthanc Server Localhost\n",
            "Entry with study_instance_uid 1.1.2 added or updated.\n"
          ]
        }
      ],
      "source": [
        "findings = \"Multiple venous collaterals are present in the anterior left chest wall and are associated with the anterior jugular vein at the level of the right sternoclavicular junction. Left subclavian vein collapsed (chronic occlusion pathology?). Trachea, both main bronchi are open. Calcific plaques are observed in the aortic arch. Other mediastinal main vascular structures, heart contour, size are normal. Thoracic aorta diameter is normal. Pericardial effusion-thickening was not observed. Thoracic esophagus calibration was normal and no significant tumoral wall thickening was detected. No enlarged lymph nodes in prevascular, pre-paratracheal, subcarinal or bilateral hilar-axillary pathological dimensions were detected. When examined in the lung parenchyma window; Linear atelectasis is present in both lung parenchyma. Subsegmental atelectasis is observed in the right middle lobe. Thickening of the bronchial wall and peribronchial budding tree-like reticulonodular densities are observed in the bilateral lower lobes. Peribronchial minimal consolidation is seen in the lower lobes in places. The findings were evaluated primarily in favor of the infectious process. The left kidney partially entering the section is atrophic. The right kidney could not be evaluated because it did not enter the section. Other upper abdominal organs included in the sections are normal. No space-occupying lesion was detected in the liver that entered the cross-sectional area. Bilateral adrenal glands were normal and no space-occupying lesion was detected. There are osteophytes with anterior extension in the thoracic vertebrae.\"\n",
        "impressions=\"Multiple venous collaterals in the anterior left chest wall and collapsed appearance in the left subclavian vein (chronic occlusion?).  Thickening of the bronchial wall in both lungs.  Peribronchial reticulonodular densities in the lower lobes, minimal consolidations (infection process?).  Atelectasis in both lungs.  Thoracic spondylosis.\"\n",
        "description=\"Arterial wall calcification, Atelectasis, Lung opacity, Consolidation\"\n",
        "nifti_file = '../data/nifti/ct-rate/img_256_standard/train_1_a_1_sample_0.nii.gz'\n",
        "output_folder = '../data/nifti/ct-rate/train/train_1_a_1/generated/train_1_a_1_sample_0/'\n",
        "nifti_to_dicom(nifti_file=nifti_file, \n",
        "               output_folder=output_folder,\n",
        "               series_description=\"Generated, 1\", \n",
        "               modality = \"AI\",\n",
        "               study_instance_uid='1.1',\n",
        "               series_instance_uid='1.1.2',\n",
        "               study_id='2', \n",
        "               accession_number='1.1',\n",
        "               patient_name=\"Example Patient 1\",\n",
        "               patient_id=\"train_1_a_1\",\n",
        "               description=description,\n",
        ")\n",
        "store_metadata(series_instance_uid='1.1.2',metadata={\"impressions\":impressions})"
      ]
    },
    {
      "cell_type": "code",
      "execution_count": 61,
      "metadata": {},
      "outputs": [
        {
          "name": "stdout",
          "output_type": "stream",
          "text": [
            "Min of data: 0.0\n",
            "Max of data: 1.0\n",
            "Conversion complete. DICOM files are saved in ../data/nifti/ct-rate/train/train_1_a_1/generated/train_1_a_1_sample_1/\n",
            "Files Uploaded to Orthanc Server Localhost\n",
            "Entry with study_instance_uid 1.1.3 added or updated.\n"
          ]
        }
      ],
      "source": [
        "findings = \"Multiple venous collaterals are present in the anterior left chest wall and are associated with the anterior jugular vein at the level of the right sternoclavicular junction. Left subclavian vein collapsed (chronic occlusion pathology?). Trachea, both main bronchi are open. Calcific plaques are observed in the aortic arch. Other mediastinal main vascular structures, heart contour, size are normal. Thoracic aorta diameter is normal. Pericardial effusion-thickening was not observed. Thoracic esophagus calibration was normal and no significant tumoral wall thickening was detected. No enlarged lymph nodes in prevascular, pre-paratracheal, subcarinal or bilateral hilar-axillary pathological dimensions were detected. When examined in the lung parenchyma window; Linear atelectasis is present in both lung parenchyma. Subsegmental atelectasis is observed in the right middle lobe. Thickening of the bronchial wall and peribronchial budding tree-like reticulonodular densities are observed in the bilateral lower lobes. Peribronchial minimal consolidation is seen in the lower lobes in places. The findings were evaluated primarily in favor of the infectious process. The left kidney partially entering the section is atrophic. The right kidney could not be evaluated because it did not enter the section. Other upper abdominal organs included in the sections are normal. No space-occupying lesion was detected in the liver that entered the cross-sectional area. Bilateral adrenal glands were normal and no space-occupying lesion was detected. There are osteophytes with anterior extension in the thoracic vertebrae.\"\n",
        "impressions=\"Multiple venous collaterals in the anterior left chest wall and collapsed appearance in the left subclavian vein (chronic occlusion?).  Thickening of the bronchial wall in both lungs.  Peribronchial reticulonodular densities in the lower lobes, minimal consolidations (infection process?).  Atelectasis in both lungs.  Thoracic spondylosis.\"\n",
        "description=\"Arterial wall calcification, Atelectasis, Lung opacity, Consolidation\"\n",
        "nifti_file = '../data/nifti/ct-rate/img_256_standard/train_1_a_1_sample_1.nii.gz'\n",
        "output_folder = '../data/nifti/ct-rate/train/train_1_a_1/generated/train_1_a_1_sample_1/'\n",
        "nifti_to_dicom(nifti_file=nifti_file, \n",
        "               output_folder=output_folder,\n",
        "               series_description=\"Generated, 2\", \n",
        "               modality = \"AI\",\n",
        "               study_instance_uid='1.1',\n",
        "               series_instance_uid='1.1.3',\n",
        "               study_id='3', \n",
        "               accession_number='1.1',\n",
        "               patient_name=\"Example Patient 1\",\n",
        "               patient_id=\"train_1_a_1\",\n",
        "               description=description,\n",
        ")\n",
        "store_metadata(series_instance_uid='1.1.3',metadata={\"impressions\":impressions})"
      ]
    },
    {
      "cell_type": "code",
      "execution_count": 62,
      "metadata": {},
      "outputs": [
        {
          "name": "stdout",
          "output_type": "stream",
          "text": [
            "Min of data: 0.0\n",
            "Max of data: 1.0\n",
            "Conversion complete. DICOM files are saved in ../data/nifti/ct-rate/train/train_1_a_1/generated/train_1_a_1_sample_2/\n",
            "Files Uploaded to Orthanc Server Localhost\n",
            "Entry with study_instance_uid 1.1.4 added or updated.\n"
          ]
        }
      ],
      "source": [
        "findings = \"Multiple venous collaterals are present in the anterior left chest wall and are associated with the anterior jugular vein at the level of the right sternoclavicular junction. Left subclavian vein collapsed (chronic occlusion pathology?). Trachea, both main bronchi are open. Calcific plaques are observed in the aortic arch. Other mediastinal main vascular structures, heart contour, size are normal. Thoracic aorta diameter is normal. Pericardial effusion-thickening was not observed. Thoracic esophagus calibration was normal and no significant tumoral wall thickening was detected. No enlarged lymph nodes in prevascular, pre-paratracheal, subcarinal or bilateral hilar-axillary pathological dimensions were detected. When examined in the lung parenchyma window; Linear atelectasis is present in both lung parenchyma. Subsegmental atelectasis is observed in the right middle lobe. Thickening of the bronchial wall and peribronchial budding tree-like reticulonodular densities are observed in the bilateral lower lobes. Peribronchial minimal consolidation is seen in the lower lobes in places. The findings were evaluated primarily in favor of the infectious process. The left kidney partially entering the section is atrophic. The right kidney could not be evaluated because it did not enter the section. Other upper abdominal organs included in the sections are normal. No space-occupying lesion was detected in the liver that entered the cross-sectional area. Bilateral adrenal glands were normal and no space-occupying lesion was detected. There are osteophytes with anterior extension in the thoracic vertebrae.\"\n",
        "impressions=\"Multiple venous collaterals in the anterior left chest wall and collapsed appearance in the left subclavian vein (chronic occlusion?).  Thickening of the bronchial wall in both lungs.  Peribronchial reticulonodular densities in the lower lobes, minimal consolidations (infection process?).  Atelectasis in both lungs.  Thoracic spondylosis.\"\n",
        "description=\"Arterial wall calcification, Atelectasis, Lung opacity, Consolidation\"\n",
        "nifti_file = '../data/nifti/ct-rate/img_256_standard/train_1_a_1_sample_2.nii.gz'\n",
        "output_folder = '../data/nifti/ct-rate/train/train_1_a_1/generated/train_1_a_1_sample_2/'\n",
        "nifti_to_dicom(nifti_file=nifti_file, \n",
        "               output_folder=output_folder,\n",
        "               series_description=\"Generated, 3\", \n",
        "               modality = \"AI\",\n",
        "               study_instance_uid='1.1',\n",
        "               series_instance_uid='1.1.4',\n",
        "               study_id='4', \n",
        "               accession_number='1.1',\n",
        "               patient_name=\"Example Patient 1\",\n",
        "               patient_id=\"train_1_a_1\",\n",
        "               description=description,\n",
        ")\n",
        "store_metadata(series_instance_uid='1.1.4',metadata={\"impressions\":impressions})"
      ]
    },
    {
      "cell_type": "markdown",
      "metadata": {},
      "source": [
        "### Counterfactual"
      ]
    },
    {
      "cell_type": "code",
      "execution_count": null,
      "metadata": {},
      "outputs": [],
      "source": [
        "findings = \"Multiple venous collaterals are present in the anterior left chest wall and are associated with the anterior jugular vein at the level of the right sternoclavicular junction. Left subclavian vein collapsed (chronic occlusion pathology?). Trachea, both main bronchi are open. Calcific plaques are observed in the aortic arch. Other mediastinal main vascular structures, heart contour, size are normal. Thoracic aorta diameter is normal. Pericardial effusion-thickening was not observed. Thoracic esophagus calibration was normal and no significant tumoral wall thickening was detected. No enlarged lymph nodes in prevascular, pre-paratracheal, subcarinal or bilateral hilar-axillary pathological dimensions were detected. When examined in the lung parenchyma window; Linear atelectasis is present in both lung parenchyma. Subsegmental atelectasis is observed in the right middle lobe. Thickening of the bronchial wall and peribronchial budding tree-like reticulonodular densities are observed in the bilateral lower lobes. Peribronchial minimal consolidation is seen in the lower lobes in places. The findings were evaluated primarily in favor of the infectious process. The left kidney partially entering the section is atrophic. The right kidney could not be evaluated because it did not enter the section. Other upper abdominal organs included in the sections are normal. No space-occupying lesion was detected in the liver that entered the cross-sectional area. Bilateral adrenal glands were normal and no space-occupying lesion was detected. There are osteophytes with anterior extension in the thoracic vertebrae.\"\n",
        "impressions=\"Multiple venous collaterals in the anterior left chest wall and collapsed appearance in the left subclavian vein (chronic occlusion?).  No thickening of the bronchial wall.  Peribronchial reticulonodular densities in the lower lobes, minimal consolidations (infection process?).  Atelectasis in both lungs.  Thoracic spondylosis.\"\n",
        "description=\"Arterial wall calcification, Atelectasis, Lung opacity, Consolidation\"\n",
        "nifti_file = '../data/nifti/ct-rate/img_256_standard/train_1_a_1_counterf_1_sample_0.nii.gz'\n",
        "output_folder = '../data/nifti/ct-rate/train/train_1_a_1/generated/train_1_a_1_counterf_1_sample_0/'\n",
        "nifti_to_dicom(nifti_file=nifti_file, \n",
        "               output_folder=output_folder,\n",
        "               series_description=\"Generated, 4 (counterfactual)\", \n",
        "               modality = \"AI\",\n",
        "               study_instance_uid='1.1',\n",
        "               series_instance_uid='1.1.5',\n",
        "               study_id='5', \n",
        "               accession_number='1.1',\n",
        "               patient_name=\"Example Patient 1\",\n",
        "               patient_id=\"train_1_a_1\",\n",
        "               description=description,\n",
        ")\n",
        "store_metadata(series_instance_uid='1.1.5',metadata={\"impressions\":impressions})"
      ]
    },
    {
      "cell_type": "code",
      "execution_count": null,
      "metadata": {},
      "outputs": [],
      "source": [
        "findings = \"Multiple venous collaterals are present in the anterior left chest wall and are associated with the anterior jugular vein at the level of the right sternoclavicular junction. Left subclavian vein collapsed (chronic occlusion pathology?). Trachea, both main bronchi are open. Calcific plaques are observed in the aortic arch. Other mediastinal main vascular structures, heart contour, size are normal. Thoracic aorta diameter is normal. Pericardial effusion-thickening was not observed. Thoracic esophagus calibration was normal and no significant tumoral wall thickening was detected. No enlarged lymph nodes in prevascular, pre-paratracheal, subcarinal or bilateral hilar-axillary pathological dimensions were detected. When examined in the lung parenchyma window; Linear atelectasis is present in both lung parenchyma. Subsegmental atelectasis is observed in the right middle lobe. Thickening of the bronchial wall and peribronchial budding tree-like reticulonodular densities are observed in the bilateral lower lobes. Peribronchial minimal consolidation is seen in the lower lobes in places. The findings were evaluated primarily in favor of the infectious process. The left kidney partially entering the section is atrophic. The right kidney could not be evaluated because it did not enter the section. Other upper abdominal organs included in the sections are normal. No space-occupying lesion was detected in the liver that entered the cross-sectional area. Bilateral adrenal glands were normal and no space-occupying lesion was detected. There are osteophytes with anterior extension in the thoracic vertebrae.\"\n",
        "impressions=\"Multiple venous collaterals in the anterior left chest wall and collapsed appearance in the left subclavian vein (chronic occlusion?).  Thickening of the bronchial wall in both lungs.  Peribronchial reticulonodular densities in the lower lobes, large consolidations (infection process?).  Atelectasis in both lungs.  Thoracic spondylosis.\"\n",
        "description=\"Arterial wall calcification, Atelectasis, Lung opacity, Consolidation\"\n",
        "nifti_file = '../data/nifti/ct-rate/img_256_standard/train_1_a_1_counterf_2_sample_0.nii.gz'\n",
        "output_folder = '../data/nifti/ct-rate/train/train_1_a_1/generated/train_1_a_1_counterf_2_sample_0/'\n",
        "nifti_to_dicom(nifti_file=nifti_file, \n",
        "               output_folder=output_folder,\n",
        "               series_description=\"Generated, 5 (counterfactual)\", \n",
        "               modality = \"AI\",\n",
        "               study_instance_uid='1.1',\n",
        "               series_instance_uid='1.1.6',\n",
        "               study_id='6', \n",
        "               accession_number='1.1',\n",
        "               patient_name=\"Example Patient 1\",\n",
        "               patient_id=\"train_1_a_1\",\n",
        "               description=description,\n",
        ")\n",
        "store_metadata(series_instance_uid='1.1.6',metadata={\"impressions\":impressions})"
      ]
    },
    {
      "cell_type": "markdown",
      "metadata": {},
      "source": [
        "## Example 2\n",
        "- Arterial wall calcification\n",
        "- Coronary artery wall calcification\n",
        "- Lymphadenopathy\n",
        "- Lung nodule\n",
        "- Lung opacity\n"
      ]
    },
    {
      "cell_type": "markdown",
      "metadata": {},
      "source": [
        "### Original "
      ]
    },
    {
      "cell_type": "code",
      "execution_count": 63,
      "metadata": {},
      "outputs": [
        {
          "name": "stderr",
          "output_type": "stream",
          "text": [
            "c:\\Users\\mot99\\miniconda3\\envs\\ohif-python\\Lib\\site-packages\\pydicom\\valuerep.py:443: UserWarning: The value length (107) exceeds the maximum length of 64 allowed for VR LO.\n",
            "  warnings.warn(msg)\n"
          ]
        },
        {
          "name": "stdout",
          "output_type": "stream",
          "text": [
            "Min of data: 0.0\n",
            "Max of data: 4095.0\n",
            "Conversion complete. DICOM files are saved in ../data/nifti/ct-rate/train/train_10_a_1/original/\n",
            "Deleted Study: af503a5b-a3ebfdfb-a362f881-f5808707-cff51ae8\n",
            "Files Uploaded to Orthanc Server Localhost\n",
            "Entry with study_instance_uid 1.2 added or updated.\n"
          ]
        }
      ],
      "source": [
        "\n",
        "findings = \"Trachea, both main bronchi are open. Mediastinal main vascular structures, heart contour, size are normal. Pericardial effusion-thickening was not observed. Calcific plaques are present in the coronary arteries. Thoracic esophagus calibration was normal and no significant pathological wall thickening was detected. Millimetric lymph nodes with a short axis not exceeding 1 cm are observed in the mediastinum. When examined in the lung parenchyma window; Widespread ground glass densities are observed in both lung parenchyma showing a tendency to central and peripheral fusion. A 5 mm calcific nodule was observed in the posterobasal region of the lower lobe of the right lung. A millimetric hypodense lesion was observed in segment 2 of the liver in the upper abdominal organs included in the sections. Bone structures in the study area are natural. Osteodegenerative changes are observed in the vertebrae.\"\n",
        "impressions=\"Findings compatible with Covid pneumonia  Aortic and coronary artery atherosclerosis  Hypodense lesion (cyst?) in liver segment 2\"\n",
        "description= \"Arterial wall calcification, Coronary artery wall calcification, Lymphadenopathy, Lung nodule, Lung opacity\"\n",
        "nifti_file = '../data/nifti/ct-rate/train/train_10_a_1.nii.gz'\n",
        "output_folder = '../data/nifti/ct-rate/train/train_10_a_1/original/'\n",
        "nifti_to_dicom(nifti_file=nifti_file, \n",
        "               output_folder=output_folder,\n",
        "               series_description=\"Original\", \n",
        "               modality = \"CT\",\n",
        "               study_instance_uid='1.2',\n",
        "               series_instance_uid='1.2.1',\n",
        "               study_id='1', \n",
        "               accession_number='1.2',\n",
        "               patient_name=\"Example Patient 2\",\n",
        "               patient_id=\"train_10_a_1\",\n",
        "               description= description,\n",
        "\n",
        "               )\n",
        "store_metadata(series_instance_uid='1.2',metadata={\"initial_report\":impressions})"
      ]
    },
    {
      "cell_type": "markdown",
      "metadata": {},
      "source": [
        "### Generated"
      ]
    },
    {
      "cell_type": "code",
      "execution_count": 64,
      "metadata": {},
      "outputs": [
        {
          "name": "stdout",
          "output_type": "stream",
          "text": [
            "Min of data: 0.0\n",
            "Max of data: 1.0\n",
            "Conversion complete. DICOM files are saved in ../data/nifti/ct-rate/train/train_10_a_1/generated/\n",
            "Deleted Study: 7dea9037-9aef70d4-f3ab02ab-aafcb585-2949201a\n",
            "Files Uploaded to Orthanc Server Localhost\n",
            "Entry with study_instance_uid 1.2.2 added or updated.\n"
          ]
        }
      ],
      "source": [
        "findings = \"Trachea, both main bronchi are open. Mediastinal main vascular structures, heart contour, size are normal. Pericardial effusion-thickening was not observed. Calcific plaques are present in the coronary arteries. Thoracic esophagus calibration was normal and no significant pathological wall thickening was detected. Millimetric lymph nodes with a short axis not exceeding 1 cm are observed in the mediastinum. When examined in the lung parenchyma window; Widespread ground glass densities are observed in both lung parenchyma showing a tendency to central and peripheral fusion. A 5 mm calcific nodule was observed in the posterobasal region of the lower lobe of the right lung. A millimetric hypodense lesion was observed in segment 2 of the liver in the upper abdominal organs included in the sections. Bone structures in the study area are natural. Osteodegenerative changes are observed in the vertebrae.\"\n",
        "impressions=\" Findings compatible with Covid pneumonia  Aortic and coronary artery atherosclerosis  Hypodense lesion (cyst?) in liver segment 2\"\n",
        "description= \"Arterial wall calcification, Coronary artery wall calcification, Lymphadenopathy, Lung nodule, Lung opacity\"\n",
        "nifti_file = '../data/nifti/ct-rate/img_256_standard/train_10_a_1_sample_0.nii.gz'\n",
        "output_folder = '../data/nifti/ct-rate/train/train_10_a_1/generated/'\n",
        "nifti_to_dicom(nifti_file=nifti_file, \n",
        "               output_folder=output_folder,\n",
        "               series_description=\"Generated, 1\", \n",
        "               modality = \"AI\",\n",
        "               study_instance_uid='1.2',\n",
        "               series_instance_uid='1.2.2',\n",
        "               study_id='2', \n",
        "               accession_number='1.2',\n",
        "               patient_name=\"Example Patient 2\",\n",
        "               patient_id=\"train_10_a_1\",\n",
        "               description= description,\n",
        "\n",
        "               )\n",
        "store_metadata(series_instance_uid='1.2.2',metadata={\"impressions\":impressions})"
      ]
    },
    {
      "cell_type": "markdown",
      "metadata": {},
      "source": [
        "# Example 3\n",
        "- (Medical material)\n",
        "- Pericardial effusion\n",
        "- Emphysema\n",
        "- Atelectasis\n",
        "- Lung nodule\n",
        "- Pleural effusion\n",
        "- Consolidation\n"
      ]
    },
    {
      "cell_type": "markdown",
      "metadata": {},
      "source": [
        "### Original "
      ]
    },
    {
      "cell_type": "code",
      "execution_count": 65,
      "metadata": {},
      "outputs": [
        {
          "name": "stderr",
          "output_type": "stream",
          "text": [
            "c:\\Users\\mot99\\miniconda3\\envs\\ohif-python\\Lib\\site-packages\\pydicom\\valuerep.py:443: UserWarning: The value length (90) exceeds the maximum length of 64 allowed for VR LO.\n",
            "  warnings.warn(msg)\n"
          ]
        },
        {
          "name": "stdout",
          "output_type": "stream",
          "text": [
            "Min of data: 0.0\n",
            "Max of data: 4095.0\n",
            "Conversion complete. DICOM files are saved in ../data/nifti/ct-rate/train/train_100_a_1/original/\n",
            "Deleted Study: d9816a11-24e81c35-5665d21c-b96c57f2-5528d013\n",
            "Files Uploaded to Orthanc Server Localhost\n",
            "Entry with study_instance_uid 1.3 added or updated.\n"
          ]
        }
      ],
      "source": [
        "\n",
        "findings = \"A central venous catheter inserted from the right was observed. Trachea and both main bronchi are open and no obstructive pathology is detected. Mediastinal vascular structures and cardiac examination could not be evaluated optimally due to the lack of contrast. The pulmonary trunk caliber was measured at 30 mm and was wider than normal. Heart contour, the size is natural. There is minimal pericardial effusion. The effusion measuring approximately 80 mm in size is observed on the right. There is an area of increased density in the lung parenchyma adjacent to the effusion, which is considered secondary to compressive atelectasis. No pathological increase in wall thickness was observed in the thoracic esophagus. In the mediastinum, in both axillary regions and in the supraclavicular fossa, no lymph nodes were observed in pathological size and appearance. In the lower lobe of the left lung, there is an area of increase in density consistent with the consolidation observed in the air bronchograms. Although the appearance may be secondary to atelectasis, underlying pneumonic infiltration cannot be excluded. It is recommended to be evaluated together with clinical and laboratory findings. No mass lesion was observed in both lungs. There are a few millimetric nodules in the left lung, the largest of which is 5.5x3.5 mm in the upper lobe inferior lingular segment. Emphysematous changes were observed in both lungs. There are findings consistent with peritoneal carcinomatosis in the upper abdominal sections within the image, and hypodense lesions in the liver and spleen parenchyma that cannot be characterized in this examination. No lytic or destructive lesions were detected in the bone structures within the image.\"\n",
        "impressions=\"Right pleural effusion, area of increased density in the adjacent lung parenchyma evaluated in favor of compressive atelectasis.  Density increase area in the lower lobe of the left lung consistent with the consolidation observed in air bronchograms; Pneumonic infiltration, which may be related to atelectasis, cannot be excluded. It is recommended to be evaluated together with clinical and laboratory findings.  A few millimetric nodules in the left lung.\"\n",
        "description= \"Pericardial effusion, Emphysema, Atelectasis, Lung nodule, Pleural effusion, Consolidation\"\n",
        "nifti_file = '../data/nifti/ct-rate/train/train_100_a_1.nii.gz'\n",
        "output_folder = '../data/nifti/ct-rate/train/train_100_a_1/original/'\n",
        "nifti_to_dicom(nifti_file=nifti_file, \n",
        "               output_folder=output_folder,\n",
        "               series_description=\"Original\", \n",
        "               modality = \"CT\",\n",
        "               study_instance_uid='1.3',\n",
        "               series_instance_uid='1.3.1',\n",
        "               study_id='1', \n",
        "               accession_number='1.3',\n",
        "               patient_name=\"Example Patient 3\",\n",
        "               patient_id=\"train_100_a_1\",\n",
        "               description= description,\n",
        "               )\n",
        "store_metadata(series_instance_uid='1.3',metadata={\"initial_report\":impressions})"
      ]
    },
    {
      "cell_type": "markdown",
      "metadata": {},
      "source": [
        "### Generated"
      ]
    },
    {
      "cell_type": "code",
      "execution_count": 66,
      "metadata": {},
      "outputs": [
        {
          "name": "stdout",
          "output_type": "stream",
          "text": [
            "Min of data: 0.0\n",
            "Max of data: 1.0\n",
            "Conversion complete. DICOM files are saved in ../data/nifti/ct-rate/train/train_100_a_1/generated/\n",
            "Deleted Study: 0bcb034f-557e7272-5381e430-c3364746-33deaeaa\n",
            "Files Uploaded to Orthanc Server Localhost\n",
            "Entry with study_instance_uid 1.3.2 added or updated.\n"
          ]
        }
      ],
      "source": [
        "findings = \"A central venous catheter inserted from the right was observed. Trachea and both main bronchi are open and no obstructive pathology is detected. Mediastinal vascular structures and cardiac examination could not be evaluated optimally due to the lack of contrast. The pulmonary trunk caliber was measured at 30 mm and was wider than normal. Heart contour, the size is natural. There is minimal pericardial effusion. The effusion measuring approximately 80 mm in size is observed on the right. There is an area of increased density in the lung parenchyma adjacent to the effusion, which is considered secondary to compressive atelectasis. No pathological increase in wall thickness was observed in the thoracic esophagus. In the mediastinum, in both axillary regions and in the supraclavicular fossa, no lymph nodes were observed in pathological size and appearance. In the lower lobe of the left lung, there is an area of increase in density consistent with the consolidation observed in the air bronchograms. Although the appearance may be secondary to atelectasis, underlying pneumonic infiltration cannot be excluded. It is recommended to be evaluated together with clinical and laboratory findings. No mass lesion was observed in both lungs. There are a few millimetric nodules in the left lung, the largest of which is 5.5x3.5 mm in the upper lobe inferior lingular segment. Emphysematous changes were observed in both lungs. There are findings consistent with peritoneal carcinomatosis in the upper abdominal sections within the image, and hypodense lesions in the liver and spleen parenchyma that cannot be characterized in this examination. No lytic or destructive lesions were detected in the bone structures within the image.\"\n",
        "impressions=\"Right pleural effusion, area of increased density in the adjacent lung parenchyma evaluated in favor of compressive atelectasis.  Density increase area in the lower lobe of the left lung consistent with the consolidation observed in air bronchograms; Pneumonic infiltration, which may be related to atelectasis, cannot be excluded. It is recommended to be evaluated together with clinical and laboratory findings.  A few millimetric nodules in the left lung.\"\n",
        "description= \"Pericardial effusion, Emphysema, Atelectasis, Lung nodule, Pleural effusion, Consolidation\"\n",
        "nifti_file = '../data/nifti/ct-rate/img_256_standard/train_100_a_1_sample_0.nii.gz'\n",
        "output_folder = '../data/nifti/ct-rate/train/train_100_a_1/generated/'\n",
        "nifti_to_dicom(nifti_file=nifti_file, \n",
        "               output_folder=output_folder,\n",
        "               series_description=\"Generated, 1\", \n",
        "               modality = \"AI\",\n",
        "               study_instance_uid='1.3',\n",
        "               series_instance_uid='1.3.2',\n",
        "               study_id='2', \n",
        "               accession_number='1.3',\n",
        "               patient_name=\"Example Patient 3\",\n",
        "               patient_id=\"train_100_a_1\",\n",
        "               description= description,\n",
        "               )\n",
        "store_metadata(series_instance_uid='1.3.2',metadata={\"impressions\":impressions})"
      ]
    },
    {
      "cell_type": "markdown",
      "metadata": {},
      "source": [
        "### Counterfactual"
      ]
    },
    {
      "cell_type": "code",
      "execution_count": null,
      "metadata": {},
      "outputs": [],
      "source": [
        "findings = \"A central venous catheter inserted from the right was observed. Trachea and both main bronchi are open and no obstructive pathology is detected. Mediastinal vascular structures and cardiac examination could not be evaluated optimally due to the lack of contrast. The pulmonary trunk caliber was measured at 30 mm and was wider than normal. Heart contour, the size is natural. There is minimal pericardial effusion. The effusion measuring approximately 80 mm in size is observed on the right. There is an area of increased density in the lung parenchyma adjacent to the effusion, which is considered secondary to compressive atelectasis. No pathological increase in wall thickness was observed in the thoracic esophagus. In the mediastinum, in both axillary regions and in the supraclavicular fossa, no lymph nodes were observed in pathological size and appearance. In the lower lobe of the left lung, there is an area of increase in density consistent with the consolidation observed in the air bronchograms. Although the appearance may be secondary to atelectasis, underlying pneumonic infiltration cannot be excluded. It is recommended to be evaluated together with clinical and laboratory findings. No mass lesion was observed in both lungs. There are a few millimetric nodules in the left lung, the largest of which is 5.5x3.5 mm in the upper lobe inferior lingular segment. Emphysematous changes were observed in both lungs. There are findings consistent with peritoneal carcinomatosis in the upper abdominal sections within the image, and hypodense lesions in the liver and spleen parenchyma that cannot be characterized in this examination. No lytic or destructive lesions were detected in the bone structures within the image.\"\n",
        "impressions=\"Right pleural effusion, area of increased density in the adjacent lung parenchyma evaluated in favor of compressive atelectasis.  Density increase area in the lower lobe of the left lung consistent with the consolidation observed in air bronchograms; Pneumonic infiltration, which may be related to atelectasis, cannot be excluded. It is recommended to be evaluated together with clinical and laboratory findings.\"\n",
        "description= \"Pericardial effusion, Emphysema, Atelectasis, Lung nodule, Pleural effusion, Consolidation\"\n",
        "nifti_file = '../data/nifti/ct-rate/img_256_standard/train_100_a_1_counterf_1_sample_0.nii.gz'\n",
        "output_folder = '../data/nifti/ct-rate/train/train_100_a_1_counterf_1/generated/'\n",
        "nifti_to_dicom(nifti_file=nifti_file, \n",
        "               output_folder=output_folder,\n",
        "               series_description=\"Generated, 2 (counterfactual)\", \n",
        "               modality = \"AI\",\n",
        "               study_instance_uid='1.3',\n",
        "               series_instance_uid='1.3.3',\n",
        "               study_id='3', \n",
        "               accession_number='1.3',\n",
        "               patient_name=\"Example Patient 3\",\n",
        "               patient_id=\"train_100_a_1\",\n",
        "               description= description,\n",
        "               )\n",
        "store_metadata(series_instance_uid='1.3.3',metadata={\"impressions\":impressions})"
      ]
    },
    {
      "cell_type": "markdown",
      "metadata": {},
      "source": [
        "# Example 4\n",
        "- Lung nodule\n"
      ]
    },
    {
      "cell_type": "markdown",
      "metadata": {},
      "source": [
        "### Original "
      ]
    },
    {
      "cell_type": "code",
      "execution_count": 67,
      "metadata": {},
      "outputs": [
        {
          "name": "stdout",
          "output_type": "stream",
          "text": [
            "Min of data: 0.0\n",
            "Max of data: 4095.0\n",
            "Conversion complete. DICOM files are saved in ../data/nifti/ct-rate/train/train_1000_a_1/original/\n",
            "Deleted Study: 055e6b69-86797d7e-b58269a8-0bc35968-f2123fbd\n",
            "Files Uploaded to Orthanc Server Localhost\n",
            "Entry with study_instance_uid 1.4 added or updated.\n"
          ]
        }
      ],
      "source": [
        "findings = \"No lymph node was observed in the supraclavicular fossa and axilla in pathological size and appearance. Thyroid gland, left lobe and isthmus are operated. Heart dimensions and compartments appear natural. Pericardial effusion was not detected. Calibrations of mediastinal major vascular structures are natural. No pneumonic infiltration or consolidation area was detected in the lung parenchyma. No suspicious mass or nodular space-occupying lesion was observed in the lung parenchyma. There are a few nonspecific nodules less than 5 mm in diameter. In the evaluation of the upper abdominal organs, including the cross-section, there is a decrease in both kidney sizes and parenchyma thickness. No lytic-destructive lesions were detected in bone structures.\"\n",
        "impressions=\"Thoracic CT examination within normal limits. Decrease in both kidney sizes and parenchyma thickness. Partially thyroidectomized\"\n",
        "description= \"Lung nodule\"\n",
        "nifti_file = '../data/nifti/ct-rate/train/train_1000_a_1.nii.gz'\n",
        "output_folder = '../data/nifti/ct-rate/train/train_1000_a_1/original/'\n",
        "\n",
        "nifti_to_dicom(nifti_file=nifti_file,\n",
        "               output_folder=output_folder,\n",
        "               series_description=\"Original\", \n",
        "               modality = \"CT\",\n",
        "               study_instance_uid='1.4',\n",
        "               series_instance_uid='1.4.1',\n",
        "               study_id='1', \n",
        "               accession_number='1.4',\n",
        "               patient_name=\"Example Patient 4\",\n",
        "               patient_id=\"train_1000_a_1\",\n",
        "               description= description\n",
        "               )\n",
        "store_metadata(series_instance_uid='1.4',metadata={\"initial_report\":impressions})"
      ]
    },
    {
      "cell_type": "markdown",
      "metadata": {},
      "source": [
        "## Generated"
      ]
    },
    {
      "cell_type": "code",
      "execution_count": 68,
      "metadata": {},
      "outputs": [
        {
          "name": "stdout",
          "output_type": "stream",
          "text": [
            "Min of data: 0.0\n",
            "Max of data: 1.0\n",
            "Conversion complete. DICOM files are saved in ../data/nifti/ct-rate/train/train_1000_a_1/generated/\n",
            "Deleted Study: 282e6fbb-52e53520-4c198aba-c97df49e-ccd7d1d1\n",
            "Files Uploaded to Orthanc Server Localhost\n",
            "Entry with study_instance_uid 1.4.2 added or updated.\n"
          ]
        }
      ],
      "source": [
        "findings = \"No lymph node was observed in the supraclavicular fossa and axilla in pathological size and appearance. Thyroid gland, left lobe and isthmus are operated. Heart dimensions and compartments appear natural. Pericardial effusion was not detected. Calibrations of mediastinal major vascular structures are natural. No pneumonic infiltration or consolidation area was detected in the lung parenchyma. No suspicious mass or nodular space-occupying lesion was observed in the lung parenchyma. There are a few nonspecific nodules less than 5 mm in diameter. In the evaluation of the upper abdominal organs, including the cross-section, there is a decrease in both kidney sizes and parenchyma thickness. No lytic-destructive lesions were detected in bone structures.\"\n",
        "impressions=\"Thoracic CT examination within normal limits. Decrease in both kidney sizes and parenchyma thickness. Partially thyroidectomized\"\n",
        "description= \"Lung nodule\"\n",
        "nifti_file = '../data/nifti/ct-rate/img_256_standard/train_1000_a_1_sample_0.nii.gz'\n",
        "output_folder = '../data/nifti/ct-rate/train/train_1000_a_1/generated/'\n",
        "\n",
        "nifti_to_dicom(nifti_file=nifti_file,\n",
        "               output_folder=output_folder,\n",
        "               series_description=\"Generated, 1\", \n",
        "               modality = \"AI\",\n",
        "               study_instance_uid='1.4',\n",
        "               series_instance_uid='1.4.2',\n",
        "               study_id='2', \n",
        "               accession_number='1.4',\n",
        "               patient_name=\"Example Patient 4\",\n",
        "               patient_id=\"train_1000_a_1\",\n",
        "               description= description,\n",
        "               )\n",
        "store_metadata(series_instance_uid='1.4.2',metadata={\"impressions\":impressions})"
      ]
    },
    {
      "cell_type": "markdown",
      "metadata": {},
      "source": [
        "### Counterfactual"
      ]
    },
    {
      "cell_type": "code",
      "execution_count": null,
      "metadata": {},
      "outputs": [],
      "source": [
        "findings = \"No lymph node was observed in the supraclavicular fossa and axilla in pathological size and appearance. Thyroid gland, left lobe and isthmus are operated. Heart dimensions and compartments appear natural. Pericardial effusion was not detected. Calibrations of mediastinal major vascular structures are natural. No pneumonic infiltration or consolidation area was detected in the lung parenchyma. No suspicious mass or nodular space-occupying lesion was observed in the lung parenchyma. There are a few nonspecific nodules less than 5 mm in diameter. In the evaluation of the upper abdominal organs, including the cross-section, there is a decrease in both kidney sizes and parenchyma thickness. No lytic-destructive lesions were detected in bone structures.\"\n",
        "impressions=\"Thoracic CT examination within normal limits. Increase in both kidney sizes and parenchyma thickness. Partially thyroidectomized\"\n",
        "description= \"Lung nodule\"\n",
        "nifti_file = '../data/nifti/ct-rate/img_256_standard/train_1000_a_1_counterf_1_sample_0.nii.gz'\n",
        "output_folder = '../data/nifti/ct-rate/train/train_1000_a_1_counterf_1/generated/'\n",
        "\n",
        "nifti_to_dicom(nifti_file=nifti_file,\n",
        "               output_folder=output_folder,\n",
        "               series_description=\"Generated, 2 (counterfactual)\", \n",
        "               modality = \"AI\",\n",
        "               study_instance_uid='1.4',\n",
        "               series_instance_uid='1.4.3',\n",
        "               study_id='3', \n",
        "               accession_number='1.4',\n",
        "               patient_name=\"Example Patient 4\",\n",
        "               patient_id=\"train_1000_a_1\",\n",
        "               description= description,\n",
        "               )\n",
        "store_metadata(series_instance_uid='1.4.3',metadata={\"impressions\":impressions})"
      ]
    },
    {
      "cell_type": "markdown",
      "metadata": {},
      "source": [
        "# Example 5\n",
        "- Arterial wall calcification\n",
        "- Cardiomegaly\n",
        "- Pericardial effusion\n",
        "- Atelectasis\n",
        "- Pleural effusion"
      ]
    },
    {
      "cell_type": "markdown",
      "metadata": {},
      "source": [
        "### Original"
      ]
    },
    {
      "cell_type": "code",
      "execution_count": 69,
      "metadata": {},
      "outputs": [
        {
          "name": "stderr",
          "output_type": "stream",
          "text": [
            "c:\\Users\\mot99\\miniconda3\\envs\\ohif-python\\Lib\\site-packages\\pydicom\\valuerep.py:443: UserWarning: The value length (94) exceeds the maximum length of 64 allowed for VR LO.\n",
            "  warnings.warn(msg)\n"
          ]
        },
        {
          "name": "stdout",
          "output_type": "stream",
          "text": [
            "Min of data: 0.0\n",
            "Max of data: 10152.0\n",
            "Conversion complete. DICOM files are saved in ../data/nifti/ct-rate/train/train_1001_a_1/original/\n",
            "Deleted Study: ccf46c05-5156f3fd-a5277216-5ceffe85-236562f8\n",
            "Files Uploaded to Orthanc Server Localhost\n",
            "Entry with study_instance_uid 1.5 added or updated.\n"
          ]
        }
      ],
      "source": [
        "findings = \"The examination of the patient was evaluated by comparing it with the previous pulmonary CT angiography examination. The cardiothoracic ratio increased in favor of the heart. Minimal pericardial and bilateral pleural effusion are observed. Millimetric calcific plaques follow in the aorta. Trachea and both main bronchi are open. No occlusive pathology was detected in the trachea and both main bronchi. No pathologically enlarged lymph nodes were detected in the mediastinum and hilar regions.3.2021. There is an area of atelectasis accompanied by volume loss in the lingular segment of the left lung upper lobe. There are significant increases in interlobular septal thickness in the lower lobes of both lungs on the left. No mass was detected in both lungs. No pathological wall thickness increase was observed in the esophagus within the sections. In the upper abdominal organs within the sections, no mass with distinguishable borders was detected as far as it can be observed within the borders of non-enhanced CT. No lytic-destructive lesions were detected in the bone structures within the sections.\"\n",
        "impressions=\"Cardiomegaly, minimal pericardial-pleural effusion. Consolidation areas in both lung lower lobes prominent on the left; is regressed. Atelectasis in the lingular segment of the left lung\"\n",
        "description= \"Arterial wall calcification, Cardiomegaly, Pericardial effusion, Atelectasis, Pleural effusion\"\n",
        "nifti_file = '../data/nifti/ct-rate/train/train_1001_a_1.nii.gz'\n",
        "output_folder = '../data/nifti/ct-rate/train/train_1001_a_1/original/'\n",
        "nifti_to_dicom(nifti_file=nifti_file, \n",
        "               output_folder=output_folder,\n",
        "               series_description=\"Original\", \n",
        "               modality = \"CT\",\n",
        "               study_instance_uid='1.5',\n",
        "               series_instance_uid='1.5.1',\n",
        "               study_id='1', \n",
        "               accession_number='1.5',\n",
        "               patient_name=\"Example Patient 5\",\n",
        "               patient_id=\"train_1001_a_1\",\n",
        "               description= description,\n",
        "               )\n",
        "store_metadata(series_instance_uid='1.5',metadata={\"initial_report\":impressions})\n"
      ]
    },
    {
      "cell_type": "markdown",
      "metadata": {},
      "source": [
        "### Generated"
      ]
    },
    {
      "cell_type": "code",
      "execution_count": 70,
      "metadata": {},
      "outputs": [
        {
          "name": "stderr",
          "output_type": "stream",
          "text": [
            "c:\\Users\\mot99\\miniconda3\\envs\\ohif-python\\Lib\\site-packages\\pydicom\\valuerep.py:443: UserWarning: The value length (190) exceeds the maximum length of 64 allowed for VR LO.\n",
            "  warnings.warn(msg)\n"
          ]
        },
        {
          "name": "stdout",
          "output_type": "stream",
          "text": [
            "Min of data: 0.0\n",
            "Max of data: 1.0\n",
            "Conversion complete. DICOM files are saved in ../data/nifti/ct-rate/train/train_1001_a_1/generated/\n",
            "Deleted Study: 44113064-fcd6d83b-9246339b-308007dd-8978c7ae\n",
            "Files Uploaded to Orthanc Server Localhost\n",
            "Entry with study_instance_uid 1.5.2 added or updated.\n"
          ]
        }
      ],
      "source": [
        "findings = \"The examination of the patient was evaluated by comparing it with the previous pulmonary CT angiography examination. The cardiothoracic ratio increased in favor of the heart. Minimal pericardial and bilateral pleural effusion are observed. Millimetric calcific plaques follow in the aorta. Trachea and both main bronchi are open. No occlusive pathology was detected in the trachea and both main bronchi. No pathologically enlarged lymph nodes were detected in the mediastinum and hilar regions.3.2021. There is an area of atelectasis accompanied by volume loss in the lingular segment of the left lung upper lobe. There are significant increases in interlobular septal thickness in the lower lobes of both lungs on the left. No mass was detected in both lungs. No pathological wall thickness increase was observed in the esophagus within the sections. In the upper abdominal organs within the sections, no mass with distinguishable borders was detected as far as it can be observed within the borders of non-enhanced CT. No lytic-destructive lesions were detected in the bone structures within the sections.\"\n",
        "impressions=\"Cardiomegaly, minimal pericardial-pleural effusion. Consolidation areas in both lung lower lobes prominent on the left; is regressed. Atelectasis in the lingular segment of the left lung\"\n",
        "description=\"Arterial wall calcification, Coronary artery wall calcification, Hiatal hernia, Atelectasis, Lung opacity, Pulmonary fibrotic sequela, Peribronchial thickening, Consolidation, Bronchiectasis\"\n",
        "nifti_file = '../data/nifti/ct-rate/img_256_standard/train_1001_a_1_sample_0.nii.gz'\n",
        "output_folder = '../data/nifti/ct-rate/train/train_1001_a_1/generated/'\n",
        "nifti_to_dicom(nifti_file=nifti_file, \n",
        "               output_folder=output_folder,\n",
        "               series_description=\"Generated, 1\", \n",
        "               modality = \"AI\",\n",
        "               study_instance_uid='1.5',\n",
        "               series_instance_uid='1.5.2',\n",
        "               study_id='2', \n",
        "               accession_number='1.5',\n",
        "               patient_name=\"Example Patient 5\",\n",
        "               patient_id=\"train_1001_a_1\",\n",
        "               description=description,\n",
        "               )\n",
        "store_metadata(series_instance_uid='1.5.2',metadata={\"impressions\":impressions})"
      ]
    },
    {
      "cell_type": "markdown",
      "metadata": {},
      "source": [
        "### Counterfactual"
      ]
    },
    {
      "cell_type": "code",
      "execution_count": 71,
      "metadata": {},
      "outputs": [
        {
          "name": "stdout",
          "output_type": "stream",
          "text": [
            "Min of data: 0.0\n",
            "Max of data: 1.0\n",
            "Conversion complete. DICOM files are saved in ../data/nifti/ct-rate/train/train_1001_a_1_counterf_1/generated/\n",
            "Deleted Study: c5534141-b821a07b-e51b2078-837cc180-923b84d4\n",
            "Files Uploaded to Orthanc Server Localhost\n",
            "Entry with study_instance_uid 1.5.3 added or updated.\n"
          ]
        }
      ],
      "source": [
        "impressions=\"Cardiomegaly, no pericardial-pleural effusion. Consolidation areas in both lung lower lobes prominent on the left; is regressed. Atelectasis in the lingular segment of the left lung\"\n",
        "description=\"Arterial wall calcification, Coronary artery wall calcification, Hiatal hernia, Atelectasis, Lung opacity, Pulmonary fibrotic sequela, Peribronchial thickening, Consolidation, Bronchiectasis\"\n",
        "nifti_file = '../data/nifti/ct-rate/img_256_standard/train_1001_a_1_counterf_1_sample_0.nii.gz'\n",
        "output_folder = '../data/nifti/ct-rate/train/train_1001_a_1_counterf_1/generated/'\n",
        "nifti_to_dicom(nifti_file=nifti_file, \n",
        "               output_folder=output_folder,\n",
        "               series_description=\"Generated, 2 (counterfactual)\", \n",
        "               modality = \"AI\",\n",
        "               study_instance_uid='1.5',\n",
        "               series_instance_uid='1.5.3',\n",
        "               study_id='3', \n",
        "               accession_number='1.5',\n",
        "               patient_name=\"Example Patient 5\",\n",
        "               patient_id=\"train_1001_a_1\",\n",
        "               description=description,\n",
        "               )\n",
        "store_metadata(series_instance_uid='1.5.3',metadata={\"impressions\":impressions})"
      ]
    },
    {
      "cell_type": "code",
      "execution_count": 72,
      "metadata": {},
      "outputs": [
        {
          "name": "stdout",
          "output_type": "stream",
          "text": [
            "Min of data: 0.0\n",
            "Max of data: 1.0\n",
            "Conversion complete. DICOM files are saved in ../data/nifti/ct-rate/train/train_1001_a_1_counterf_2/generated/\n",
            "Deleted Study: d61423c3-72b899f4-d00b1496-cbc63916-191143f8\n",
            "Files Uploaded to Orthanc Server Localhost\n",
            "Entry with study_instance_uid 1.5.4 added or updated.\n"
          ]
        }
      ],
      "source": [
        "impressions=\"Cardiomegaly, significant pericardial-pleural effusion. Consolidation areas in both lung lower lobes prominent on the left; is regressed. Atelectasis in the lingular segment of the left lung\"\n",
        "description=\"Arterial wall calcification, Coronary artery wall calcification, Hiatal hernia, Atelectasis, Lung opacity, Pulmonary fibrotic sequela, Peribronchial thickening, Consolidation, Bronchiectasis\"\n",
        "nifti_file = '../data/nifti/ct-rate/img_256_standard/train_1001_a_1_counterf_2_sample_0.nii.gz'\n",
        "output_folder = '../data/nifti/ct-rate/train/train_1001_a_1_counterf_2/generated/'\n",
        "nifti_to_dicom(nifti_file=nifti_file, \n",
        "               output_folder=output_folder,\n",
        "               series_description=\"Generated, 3 (counterfactual)\", \n",
        "               modality = \"AI\",\n",
        "               study_instance_uid='1.5',\n",
        "               series_instance_uid='1.5.4',\n",
        "               study_id='4', \n",
        "               accession_number='1.5',\n",
        "               patient_name=\"Example Patient 5\",\n",
        "               patient_id=\"train_1001_a_1\",\n",
        "               description=description,\n",
        "               )\n",
        "store_metadata(series_instance_uid='1.5.4',metadata={\"impressions\":impressions})"
      ]
    },
    {
      "cell_type": "markdown",
      "metadata": {},
      "source": [
        "# Example 6\n",
        "- Arterial wall calcification\n",
        "- Coronary artery wall calcification\n",
        "- Hiatal hernia\n",
        "- Atelectasis\n",
        "- Lung opacity\n",
        "- Pulmonary fibrotic sequela\n",
        "- Peribronchial thickening\n",
        "- Consolidation\n",
        "- Bronchiectasis"
      ]
    },
    {
      "cell_type": "markdown",
      "metadata": {},
      "source": [
        "### Original"
      ]
    },
    {
      "cell_type": "code",
      "execution_count": 73,
      "metadata": {},
      "outputs": [
        {
          "name": "stdout",
          "output_type": "stream",
          "text": [
            "Min of data: 0.0\n",
            "Max of data: 11868.0\n",
            "Conversion complete. DICOM files are saved in ../data/nifti/ct-rate/train/train_101_a_1/original/\n",
            "Deleted Study: 3711b673-3b11cd8a-5013519c-05e7448b-9dff183a\n",
            "Files Uploaded to Orthanc Server Localhost\n",
            "Entry with study_instance_uid 1.6 added or updated.\n"
          ]
        }
      ],
      "source": [
        "findings = \"Trachea was in the midline of both main bronchi and no obstructive pathology was observed in the lumen. The mediastinum could not be evaluated optimally in the non-contrast examination. As far as can be seen; mediastinal main vascular structures, heart contour, size are normal. Pericardial effusion-thickening was not observed. Diffuse atherosclerotic wall calcifications were observed in the thoracic aorta and coronary arteries. Thoracic esophagus calibration was normal and no significant tumoral wall thickening was detected. Sliding type hiatal hernia was observed at the lower end of the esophagus. No pathologically enlarged lymph nodes were detected in the mediastinum. No lymph node was observed in pathological size and appearance in the supraclavicular and axillary fossa. When examined in the lung parenchyma window; In both lungs, ground-glass densities including central-peripheral, crazy paving pattern and consolidation areas showing signs of vascular enlargement were observed. The outlook is consistent with Covid-19 pneumonia. The right hemidiaphragm is elevated. Diffuse linear subsegmental atelectatic changes were observed in the middle and lower lobes of the right lung. There are segmental-subsegmental bronchiectatic changes and peribronchial thickening in both lungs. Sequelae thickening was observed in the posterocostal pleura in both hemithorax. No mass lesion with distinguishable borders was detected in both lungs. A hypodense lesion area of 21x20 mm was observed at the junction of segment 4A-8 at the level of the liver dome and could not be characterized in this examination. The gallbladder was not observed (operated). The right adrenal gland and right kidney were not observed (operated). Diffuse thickening was observed in the left adrenal gland. Within the sections, free fluid-pathological lymph node was not observed in the abdomen. Mild dextroscoliosis with left opening was observed at the thoracic level. At mid-thoracic level, a bridging spur formation is observed in the right anterolateral corners of the vertebrae. Vertebral corpus heights are preserved.\"\n",
        "impressions=\"Diffuse atherosclerotic wall calcifications in the thoracic aorta and coronary arteries.  Hiatal hernia.  Findings consistent with Covid-19 pneumonia in the lung parenchyma.  Elevation in the right hemidiaphragm, linear subsegmental atelectatic changes in the middle and lower lobes of the right lung.  Segmentary-subsegmentary tubular bronchiectasis, peribronchial thickening in both lungs.  Sequela thickening of posterocostal pleura in both hemithorax.  Hypodense lesion at the level of the liver dome (segment 4A-8 junction), which cannot be characterized in this examination.  Diffuse thickening of the left adrenal gland.  Spur formations bridging each other at the mid-thoracic level and mild dextroscoliosis with a secondary left-facing opening\"\n",
        "description=\"Arterial wall calcification, Coronary artery wall calcification, Hiatal hernia, Atelectasis, Lung opacity, Pulmonary fibrotic sequela, Peribronchial thickening, Consolidation, Bronchiectasis\"\n",
        "nifti_file = '../data/nifti/ct-rate/train/train_101_a_1.nii.gz'\n",
        "output_folder = '../data/nifti/ct-rate/train/train_101_a_1/original/'\n",
        "nifti_to_dicom(nifti_file=nifti_file, \n",
        "               output_folder=output_folder,\n",
        "               series_description=\"Original\", \n",
        "               modality = \"CT\",\n",
        "               study_instance_uid='1.6',\n",
        "               series_instance_uid='1.6.1',\n",
        "               study_id='1', \n",
        "               accession_number='1.6',\n",
        "               patient_name=\"Example Patient 6\",\n",
        "               patient_id=\"train_101_a_1\",\n",
        "               description=description,\n",
        "               )\n",
        "store_metadata(series_instance_uid='1.6',metadata={\"initial_report\":impressions})"
      ]
    },
    {
      "cell_type": "markdown",
      "metadata": {},
      "source": [
        "### Generated"
      ]
    },
    {
      "cell_type": "code",
      "execution_count": 74,
      "metadata": {},
      "outputs": [
        {
          "name": "stdout",
          "output_type": "stream",
          "text": [
            "Min of data: 0.0\n",
            "Max of data: 1.0\n",
            "Conversion complete. DICOM files are saved in ../data/nifti/ct-rate/train/train_101_a_1/generated/\n",
            "Deleted Study: 94802a33-b8540b09-d0a1bd49-31b16357-fbf4daa5\n",
            "Files Uploaded to Orthanc Server Localhost\n",
            "Entry with study_instance_uid 1.6.2 added or updated.\n"
          ]
        }
      ],
      "source": [
        "findings = \"Trachea was in the midline of both main bronchi and no obstructive pathology was observed in the lumen. The mediastinum could not be evaluated optimally in the non-contrast examination. As far as can be seen; mediastinal main vascular structures, heart contour, size are normal. Pericardial effusion-thickening was not observed. Diffuse atherosclerotic wall calcifications were observed in the thoracic aorta and coronary arteries. Thoracic esophagus calibration was normal and no significant tumoral wall thickening was detected. Sliding type hiatal hernia was observed at the lower end of the esophagus. No pathologically enlarged lymph nodes were detected in the mediastinum. No lymph node was observed in pathological size and appearance in the supraclavicular and axillary fossa. When examined in the lung parenchyma window; In both lungs, ground-glass densities including central-peripheral, crazy paving pattern and consolidation areas showing signs of vascular enlargement were observed. The outlook is consistent with Covid-19 pneumonia. The right hemidiaphragm is elevated. Diffuse linear subsegmental atelectatic changes were observed in the middle and lower lobes of the right lung. There are segmental-subsegmental bronchiectatic changes and peribronchial thickening in both lungs. Sequelae thickening was observed in the posterocostal pleura in both hemithorax. No mass lesion with distinguishable borders was detected in both lungs. A hypodense lesion area of 21x20 mm was observed at the junction of segment 4A-8 at the level of the liver dome and could not be characterized in this examination. The gallbladder was not observed (operated). The right adrenal gland and right kidney were not observed (operated). Diffuse thickening was observed in the left adrenal gland. Within the sections, free fluid-pathological lymph node was not observed in the abdomen. Mild dextroscoliosis with left opening was observed at the thoracic level. At mid-thoracic level, a bridging spur formation is observed in the right anterolateral corners of the vertebrae. Vertebral corpus heights are preserved.\"\n",
        "impressions=\"Diffuse atherosclerotic wall calcifications in the thoracic aorta and coronary arteries.  Hiatal hernia.  Findings consistent with Covid-19 pneumonia in the lung parenchyma.  Elevation in the right hemidiaphragm, linear subsegmental atelectatic changes in the middle and lower lobes of the right lung.  Segmentary-subsegmentary tubular bronchiectasis, peribronchial thickening in both lungs.  Sequela thickening of posterocostal pleura in both hemithorax.  Hypodense lesion at the level of the liver dome (segment 4A-8 junction), which cannot be characterized in this examination.  Diffuse thickening of the left adrenal gland.  Spur formations bridging each other at the mid-thoracic level and mild dextroscoliosis with a secondary left-facing opening\"\n",
        "description=\"Arterial wall calcification, Coronary artery wall calcification, Hiatal hernia, Atelectasis, Lung opacity, Pulmonary fibrotic sequela, Peribronchial thickening, Consolidation, Bronchiectasis\"\n",
        "nifti_file = '../data/nifti/ct-rate/img_256_standard/train_101_a_1_sample_0.nii.gz'\n",
        "output_folder = '../data/nifti/ct-rate/train/train_101_a_1/generated/'\n",
        "nifti_to_dicom(nifti_file=nifti_file, \n",
        "               output_folder=output_folder,\n",
        "               series_description=\"Generated, 1\", \n",
        "               modality = \"AI\",\n",
        "               study_instance_uid='1.6',\n",
        "               series_instance_uid='1.6.2',\n",
        "               study_id='2', \n",
        "               accession_number='1.6',\n",
        "               patient_name=\"Example Patient 6\",\n",
        "               patient_id=\"train_101_a_1\",\n",
        "               description=description,\n",
        "\n",
        "               )\n",
        "store_metadata(series_instance_uid='1.6.2',metadata={\"impressions\":impressions})"
      ]
    },
    {
      "cell_type": "markdown",
      "metadata": {},
      "source": [
        "# Random generated\n"
      ]
    },
    {
      "cell_type": "code",
      "execution_count": 75,
      "metadata": {},
      "outputs": [
        {
          "name": "stdout",
          "output_type": "stream",
          "text": [
            "Min of data: 0.0\n",
            "Max of data: 1.0\n",
            "Conversion complete. DICOM files are saved in ../data/dicom/examples/left_leb_sample_0\n",
            "Deleted Study: fe03efe0-cd0ada29-db88b206-d6d6fd20-af149661\n",
            "Files Uploaded to Orthanc Server Localhost\n",
            "Entry with study_instance_uid 1.7.1 added or updated.\n"
          ]
        }
      ],
      "source": [
        "findings = \"\"\n",
        "impressions= 'Left lobectomy'\n",
        "description=\"\"\n",
        "nifti_file = '../data/nifti/examples/left_leb_sample_0.nii.gz'\n",
        "output_folder = '../data/dicom/examples/left_leb_sample_0'\n",
        "nifti_to_dicom(nifti_file=nifti_file, \n",
        "               output_folder=output_folder,\n",
        "               series_description=\"Generated\", \n",
        "               modality = \"AI\",\n",
        "               study_instance_uid='1.7',\n",
        "               series_instance_uid='1.7.1',\n",
        "               study_id='1', \n",
        "               accession_number='1.7',\n",
        "               patient_name=\"Example 7\",\n",
        "               patient_id=\"generated_1\",\n",
        "               description=description,\n",
        "\n",
        "               )\n",
        "store_metadata(series_instance_uid='1.7.1',metadata={\"impressions\":impressions})"
      ]
    },
    {
      "cell_type": "code",
      "execution_count": 76,
      "metadata": {},
      "outputs": [
        {
          "name": "stdout",
          "output_type": "stream",
          "text": [
            "Min of data: 0.0\n",
            "Max of data: 1.0\n",
            "Conversion complete. DICOM files are saved in ../data/dicom/examples/left_pneu_sample_0\n",
            "Deleted Study: 94d4dd7f-c072e8b6-0d430a66-ee67cd26-35a79395\n",
            "Files Uploaded to Orthanc Server Localhost\n",
            "Entry with study_instance_uid 1.8.1 added or updated.\n"
          ]
        }
      ],
      "source": [
        "findings = \"\"\n",
        "impressions= 'Left pneumothorax'\n",
        "description=\"\"\n",
        "nifti_file = '../data/nifti/examples/left_pneu_sample_0.nii.gz'\n",
        "output_folder = '../data/dicom/examples/left_pneu_sample_0'\n",
        "nifti_to_dicom(nifti_file=nifti_file, \n",
        "               output_folder=output_folder,\n",
        "               series_description=\"Generated\", \n",
        "               modality = \"AI\",\n",
        "               study_instance_uid='1.8',\n",
        "               series_instance_uid='1.8.1',\n",
        "               study_id='1', \n",
        "               accession_number='1.8',\n",
        "               patient_name=\"Example 8\",\n",
        "               patient_id=\"generated_2\",\n",
        "               description=description,\n",
        "\n",
        "               )\n",
        "store_metadata(series_instance_uid='1.8.1',metadata={\"impressions\":impressions})"
      ]
    }
  ],
  "metadata": {
    "kernelspec": {
      "display_name": "Python 3",
      "language": "python",
      "name": "python3"
    },
    "language_info": {
      "codemirror_mode": {
        "name": "ipython",
        "version": 3
      },
      "file_extension": ".py",
      "mimetype": "text/x-python",
      "name": "python",
      "nbconvert_exporter": "python",
      "pygments_lexer": "ipython3",
      "version": "3.12.3"
    }
  },
  "nbformat": 4,
  "nbformat_minor": 0
}
