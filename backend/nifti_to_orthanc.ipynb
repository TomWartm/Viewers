{
  "cells": [
    {
      "cell_type": "code",
      "execution_count": 164,
      "metadata": {},
      "outputs": [],
      "source": [
        "import nibabel as nib\n",
        "import pydicom\n",
        "import numpy as np\n",
        "import os\n",
        "from pydicom.dataset import Dataset, FileDataset\n",
        "from datetime import datetime\n",
        "from pydicom.uid import generate_uid\n",
        "import matplotlib.pyplot as plt\n",
        "import requests\n",
        "import simple_orthanc\n",
        "\n",
        "\n",
        "# TO make it faster store study id!!!!!\n",
        "\"\"\"\n",
        "def delete_patient_studies( patient_to_delete, study_to_delete, orthanc_url='http://localhost:8042'):\n",
        "    # Retrieve patient details to get the studies\n",
        "    patient_url = f\"{orthanc_url}/patients/\"\n",
        "    patient_response = requests.get(patient_url)\n",
        "\n",
        "    if patient_response.status_code != 200:\n",
        "        print(f\"Failed to retrieve patient information. Status code: {patient_response.status_code}\")\n",
        "        print(f\"Response: {patient_response.text}\")\n",
        "        return\n",
        "\n",
        "    patients = patient_response.json()\n",
        "    \n",
        "    for patient_id in patients:\n",
        "        patient_url = f\"{orthanc_url}/patients/{patient_id}\"\n",
        "        patient_response = requests.get(patient_url)\n",
        "\n",
        "        if patient_response.json().get('MainDicomTags', {}).get('PatientID')== patient_to_delete:\n",
        "            studies = patient_response.json().get('Studies', [])\n",
        "            \n",
        "            for study in studies:\n",
        "                study_url= f\"{orthanc_url}/studies/{study}\"\n",
        "                study_response = requests.get(study_url)\n",
        "                if study_response.json().get('MainDicomTags', {}).get('StudyID')==study_to_delete:\n",
        "                    \n",
        "                    delete_response = requests.delete(study_url)\n",
        "                    print(f\"Deleted Study: {delete_response.json()}\")\n",
        "            return\n",
        "\"\"\"\n",
        "\n",
        "def delete_series(study_to_delete, orthanc_url='http://localhost:8042'):\n",
        "    series_url = f\"{orthanc_url}/series/\"\n",
        "    params = {}\n",
        "    params['expand'] = True\n",
        "    params['requestedTags'] = \"StudyInstanceUID\"\n",
        "\n",
        "    \n",
        "    series_response = requests.get(series_url, params)\n",
        "    series_id = [entry['ID'] for entry in series_response.json() if entry.get('RequestedTags', {}).get('StudyInstanceUID') == study_to_delete]\n",
        "    for serie_id in series_id:\n",
        "        serie_response = requests.delete(f\"{orthanc_url}/series/\"+serie_id)\n",
        "        if serie_response.status_code != 200:\n",
        "            print(f\"Failed to retrieve patient information. Status code: {serie_response.status_code}\")\n",
        "            print(f\"Response: {serie_response.text}\")\n",
        "            return\n",
        "        print(f\"Deleted Study: {serie_id}\")\n",
        "\n",
        "\n",
        "def upload_dicom_folder(dicom_folder):\n",
        "    # Initialize the Orthanc client\n",
        "    orthanc = simple_orthanc.Orthanc()\n",
        "\n",
        "    \n",
        "    orthanc.upload_folder(dicom_folder, test_dicom=True, recursive=True)\n",
        "\n",
        "def nifti_to_dicom(nifti_file,\n",
        "    output_folder,\n",
        "    series_description,\n",
        "    series_instance_uid=generate_uid(),\n",
        "    series_number=\"1\",\n",
        "    reference_dicom_file = \"../data/dicom/real/extensive-consolidation-v2-sampl/image.0001.dcm\",\n",
        "    modality='CT',\n",
        "    study_instance_uid = '1.3.6.1.4.1.14519.5.2.1.6834.5010.119076582718824960697635220329', # should be different for AI/non-AI\n",
        "    study_id='1', # should be different for AI/non-AI\n",
        "    accession_number = '1', # should be the same for AI/non-AI\n",
        "    patient_name=\"Generative AI Patient\",\n",
        "    patient_id=\"MedSyn\",\n",
        "    description=\"\",\n",
        "\n",
        "    ):\n",
        "    rotate=\"\"\n",
        "    if modality=='AI':\n",
        "        content_date=\"\"\n",
        "        rotate=\"counterclockwise\"\n",
        "    else:\n",
        "        content_date = str(datetime.now().date()).replace('-', '')\n",
        "        rotate=\"clockwise\"\n",
        "\n",
        "    # Load the NIfTI file\n",
        "    img = nib.load(nifti_file)\n",
        "    data = img.get_fdata()\n",
        "    affine = img.affine\n",
        "\n",
        "    # Ensure output folder exists\n",
        "    if not os.path.exists(output_folder):\n",
        "        os.makedirs(output_folder)\n",
        "\n",
        "    # Initialize common dataset attributes\n",
        "    ds = pydicom.dcmread(reference_dicom_file)\n",
        "    ds.PatientName = patient_name\n",
        "    ds.PatientID = patient_id\n",
        "    ds.AccessionNumber = accession_number\n",
        "    ds.StudyInstanceUID = study_instance_uid\n",
        "    ds.SeriesInstanceUID = series_instance_uid\n",
        "    ds.SeriesDescription= series_description\n",
        "    ds.Modality = modality\n",
        "    ds.SeriesNumber = series_number\n",
        "    ds.StudyID = study_id\n",
        "    ds.StudyDescription = description\n",
        "    ds.Manufacturer = \"PythonDicomConversion\"\n",
        "    ds.Rows, ds.Columns = data.shape[:2]\n",
        "    ds.SliceThickness = float(affine[2, 2])\n",
        "\n",
        "    ds.SamplesPerPixel = 1\n",
        "    ds.BitsAllocated = 16\n",
        "    ds.BitsStored = 16\n",
        "    ds.HighBit = 15\n",
        "    ds.PixelRepresentation = 0  # 1 means signed integers\n",
        "\n",
        "\n",
        "\n",
        "\n",
        "    # Set additional metadata\n",
        "    ds.ContentDate = content_date\n",
        "    ds.ContentTime = \"\"\n",
        "\n",
        "    ds.StudyDate = ds.ContentDate\n",
        "    ds.StudyTime = ds.ContentTime\n",
        "    ds.PatientSex = \"O\"\n",
        "    ds.PatientBirthDate = \"19000101\"\n",
        "\n",
        "\n",
        "    # Scale pixel data if necessary (e.g., to avoid issues with pixel value ranges)\n",
        "    data = data - np.min(data)\n",
        "    data = data / np.max(data) * (2**16 - 1)\n",
        "    data = data.astype('uint16')\n",
        "\n",
        "    # reverse in 3rd axis\n",
        "    #data = data[:,:,::-1]\n",
        "    # Rotate each slice to the left (90 degrees counterclockwise)\n",
        "    if rotate == \"counterclockwise\":\n",
        "        data = np.rot90(data, k=1, axes=(0, 1))\n",
        "    elif rotate == \"clockwise\":\n",
        "        data = np.rot90(data, k=3, axes=(0, 1))\n",
        "    \n",
        "    #print(data)\n",
        "    # Iterate over each slice and update the dataset\n",
        "    for i in range(data.shape[2]):\n",
        "        slice_data = data[:, :, -(i+1)]\n",
        "\n",
        "        # Update slice-specific attributes\n",
        "        ds.SOPInstanceUID= generate_uid()\n",
        "        ds.InstanceNumber = i + 1\n",
        "        ds.ImagePositionPatient = [0,0,-i] \n",
        "        ds.SliceLocation = i * ds.SliceThickness\n",
        "\n",
        "\n",
        "\n",
        "        # Convert pixel data to the appropriate type and flatten the array\n",
        "        ds.PixelData = slice_data.tobytes()\n",
        "\n",
        "        # Visualize the slice\n",
        "        # plt.imshow(slice_data, cmap='gray')\n",
        "        # plt.title(f'Slice {i}')\n",
        "        # plt.show()\n",
        "\n",
        "        # Save the DICOM file\n",
        "        dicom_filename = os.path.join(output_folder, f\"slice_{i:03d}.dcm\")\n",
        "        ds.save_as(dicom_filename)\n",
        "\n",
        "    print(f\"Conversion complete. DICOM files are saved in {output_folder}\")\n",
        "\n",
        "    # delete if there is already a study for this patient\n",
        "    delete_series(study_to_delete=study_instance_uid)\n",
        "    \n",
        "    upload_dicom_folder(output_folder)\n",
        "    print(\"Files Uploaded to Orthanc Server Localhost\")\n"
      ]
    },
    {
      "cell_type": "markdown",
      "metadata": {},
      "source": [
        "# CT-Rate\n"
      ]
    },
    {
      "cell_type": "markdown",
      "metadata": {},
      "source": [
        "## Example 1\n",
        "- Arterial wall calcification\n",
        "- Atelectasis\n",
        "- Lung opacity\n",
        "- Consolidation"
      ]
    },
    {
      "cell_type": "markdown",
      "metadata": {},
      "source": [
        "### Original\n"
      ]
    },
    {
      "cell_type": "code",
      "execution_count": 147,
      "metadata": {},
      "outputs": [
        {
          "name": "stderr",
          "output_type": "stream",
          "text": [
            "c:\\Users\\mot99\\miniconda3\\envs\\ohif-python\\Lib\\site-packages\\pydicom\\valuerep.py:443: UserWarning: The value length (69) exceeds the maximum length of 64 allowed for VR LO.\n",
            "  warnings.warn(msg)\n"
          ]
        },
        {
          "name": "stdout",
          "output_type": "stream",
          "text": [
            "Conversion complete. DICOM files are saved in ../data/nifti/ct-rate/train/train_1_a_1/original/\n",
            "Deleted Study: cbd95818-3fdbd45b-4d0d23c4-b9447919-5f4f9983\n",
            "Files Uploaded to Orthanc Server Localhost\n"
          ]
        }
      ],
      "source": [
        "findings = \"Multiple venous collaterals are present in the anterior left chest wall and are associated with the anterior jugular vein at the level of the right sternoclavicular junction. Left subclavian vein collapsed (chronic occlusion pathology?). Trachea, both main bronchi are open. Calcific plaques are observed in the aortic arch. Other mediastinal main vascular structures, heart contour, size are normal. Thoracic aorta diameter is normal. Pericardial effusion-thickening was not observed. Thoracic esophagus calibration was normal and no significant tumoral wall thickening was detected. No enlarged lymph nodes in prevascular, pre-paratracheal, subcarinal or bilateral hilar-axillary pathological dimensions were detected. When examined in the lung parenchyma window; Linear atelectasis is present in both lung parenchyma. Subsegmental atelectasis is observed in the right middle lobe. Thickening of the bronchial wall and peribronchial budding tree-like reticulonodular densities are observed in the bilateral lower lobes. Peribronchial minimal consolidation is seen in the lower lobes in places. The findings were evaluated primarily in favor of the infectious process. The left kidney partially entering the section is atrophic. The right kidney could not be evaluated because it did not enter the section. Other upper abdominal organs included in the sections are normal. No space-occupying lesion was detected in the liver that entered the cross-sectional area. Bilateral adrenal glands were normal and no space-occupying lesion was detected. There are osteophytes with anterior extension in the thoracic vertebrae.\"\n",
        "impressions=\"Multiple venous collaterals in the anterior left chest wall and collapsed appearance in the left subclavian vein (chronic occlusion?).  Thickening of the bronchial wall in both lungs.  Peribronchial reticulonodular densities in the lower lobes, minimal consolidations (infection process?).  Atelectasis in both lungs.  Thoracic spondylosis.\"\n",
        "description=\"Arterial wall calcification, Atelectasis, Lung opacity, Consolidation\"\n",
        "nifti_file = '../data/nifti/ct-rate/train/train_1_a_1.nii.gz'\n",
        "output_folder = '../data/nifti/ct-rate/train/train_1_a_1/original/'\n",
        "nifti_to_dicom(nifti_file=nifti_file, \n",
        "               output_folder=output_folder,\n",
        "               series_description=\"\", \n",
        "               modality = \"CT\",\n",
        "               study_instance_uid='1.1.1',\n",
        "               study_id='1', \n",
        "               accession_number='1.1',\n",
        "               patient_name=\"Example Patient 1\",\n",
        "               patient_id=\"train_1_a_1\",\n",
        "               description=description,\n",
        "               )\n"
      ]
    },
    {
      "cell_type": "markdown",
      "metadata": {},
      "source": [
        "### Generated"
      ]
    },
    {
      "cell_type": "code",
      "execution_count": 165,
      "metadata": {},
      "outputs": [
        {
          "name": "stdout",
          "output_type": "stream",
          "text": [
            "Conversion complete. DICOM files are saved in ../data/nifti/ct-rate/train/train_1_a_1/generated/train_1_a_1_sample_0/\n",
            "Deleted Study: baed326d-81c82016-ec4dfe9b-f42e3e55-4011b72b\n",
            "Files Uploaded to Orthanc Server Localhost\n"
          ]
        }
      ],
      "source": [
        "findings = \"Multiple venous collaterals are present in the anterior left chest wall and are associated with the anterior jugular vein at the level of the right sternoclavicular junction. Left subclavian vein collapsed (chronic occlusion pathology?). Trachea, both main bronchi are open. Calcific plaques are observed in the aortic arch. Other mediastinal main vascular structures, heart contour, size are normal. Thoracic aorta diameter is normal. Pericardial effusion-thickening was not observed. Thoracic esophagus calibration was normal and no significant tumoral wall thickening was detected. No enlarged lymph nodes in prevascular, pre-paratracheal, subcarinal or bilateral hilar-axillary pathological dimensions were detected. When examined in the lung parenchyma window; Linear atelectasis is present in both lung parenchyma. Subsegmental atelectasis is observed in the right middle lobe. Thickening of the bronchial wall and peribronchial budding tree-like reticulonodular densities are observed in the bilateral lower lobes. Peribronchial minimal consolidation is seen in the lower lobes in places. The findings were evaluated primarily in favor of the infectious process. The left kidney partially entering the section is atrophic. The right kidney could not be evaluated because it did not enter the section. Other upper abdominal organs included in the sections are normal. No space-occupying lesion was detected in the liver that entered the cross-sectional area. Bilateral adrenal glands were normal and no space-occupying lesion was detected. There are osteophytes with anterior extension in the thoracic vertebrae.\"\n",
        "impressions=\"Multiple venous collaterals in the anterior left chest wall and collapsed appearance in the left subclavian vein (chronic occlusion?).  Thickening of the bronchial wall in both lungs.  Peribronchial reticulonodular densities in the lower lobes, minimal consolidations (infection process?).  Atelectasis in both lungs.  Thoracic spondylosis.\"\n",
        "description=\"Arterial wall calcification, Atelectasis, Lung opacity, Consolidation\"\n",
        "nifti_file = '../data/nifti/ct-rate/img_256_standard/train_1_a_1_sample_0.nii.gz'\n",
        "output_folder = '../data/nifti/ct-rate/train/train_1_a_1/generated/train_1_a_1_sample_0/'\n",
        "nifti_to_dicom(nifti_file=nifti_file, \n",
        "               output_folder=output_folder,\n",
        "               series_description=impressions, \n",
        "               modality = \"AI\",\n",
        "               study_instance_uid='1.1.2',\n",
        "               study_id='2', \n",
        "               accession_number='1.1',\n",
        "               patient_name=\"Example Patient 1\",\n",
        "               patient_id=\"train_1_a_1\",\n",
        "               description=description,\n",
        ")\n"
      ]
    },
    {
      "cell_type": "code",
      "execution_count": 149,
      "metadata": {},
      "outputs": [
        {
          "name": "stdout",
          "output_type": "stream",
          "text": [
            "Conversion complete. DICOM files are saved in ../data/nifti/ct-rate/train/train_1_a_1/generated/train_1_a_1_sample_1/\n",
            "Deleted Study: bd07d4c9-4baad1fd-308a16e1-fd7a7797-6fea3143\n",
            "Files Uploaded to Orthanc Server Localhost\n"
          ]
        }
      ],
      "source": [
        "findings = \"Multiple venous collaterals are present in the anterior left chest wall and are associated with the anterior jugular vein at the level of the right sternoclavicular junction. Left subclavian vein collapsed (chronic occlusion pathology?). Trachea, both main bronchi are open. Calcific plaques are observed in the aortic arch. Other mediastinal main vascular structures, heart contour, size are normal. Thoracic aorta diameter is normal. Pericardial effusion-thickening was not observed. Thoracic esophagus calibration was normal and no significant tumoral wall thickening was detected. No enlarged lymph nodes in prevascular, pre-paratracheal, subcarinal or bilateral hilar-axillary pathological dimensions were detected. When examined in the lung parenchyma window; Linear atelectasis is present in both lung parenchyma. Subsegmental atelectasis is observed in the right middle lobe. Thickening of the bronchial wall and peribronchial budding tree-like reticulonodular densities are observed in the bilateral lower lobes. Peribronchial minimal consolidation is seen in the lower lobes in places. The findings were evaluated primarily in favor of the infectious process. The left kidney partially entering the section is atrophic. The right kidney could not be evaluated because it did not enter the section. Other upper abdominal organs included in the sections are normal. No space-occupying lesion was detected in the liver that entered the cross-sectional area. Bilateral adrenal glands were normal and no space-occupying lesion was detected. There are osteophytes with anterior extension in the thoracic vertebrae.\"\n",
        "impressions=\"Multiple venous collaterals in the anterior left chest wall and collapsed appearance in the left subclavian vein (chronic occlusion?).  Thickening of the bronchial wall in both lungs.  Peribronchial reticulonodular densities in the lower lobes, minimal consolidations (infection process?).  Atelectasis in both lungs.  Thoracic spondylosis.\"\n",
        "description=\"Arterial wall calcification, Atelectasis, Lung opacity, Consolidation\"\n",
        "nifti_file = '../data/nifti/ct-rate/img_256_standard/train_1_a_1_sample_1.nii.gz'\n",
        "output_folder = '../data/nifti/ct-rate/train/train_1_a_1/generated/train_1_a_1_sample_1/'\n",
        "nifti_to_dicom(nifti_file=nifti_file, \n",
        "               output_folder=output_folder,\n",
        "               series_description=impressions, \n",
        "               modality = \"AI\",\n",
        "               study_instance_uid='1.1.3',\n",
        "               study_id='3', \n",
        "               accession_number='1.1',\n",
        "               patient_name=\"Example Patient 1\",\n",
        "               patient_id=\"train_1_a_1\",\n",
        "               description=description,\n",
        ")\n"
      ]
    },
    {
      "cell_type": "code",
      "execution_count": 150,
      "metadata": {},
      "outputs": [
        {
          "name": "stdout",
          "output_type": "stream",
          "text": [
            "Conversion complete. DICOM files are saved in ../data/nifti/ct-rate/train/train_1_a_1/generated/train_1_a_1_sample_2/\n",
            "Deleted Study: b4803e76-c2d66cc0-94e32890-8e7f71c4-dd405cce\n",
            "Files Uploaded to Orthanc Server Localhost\n"
          ]
        }
      ],
      "source": [
        "findings = \"Multiple venous collaterals are present in the anterior left chest wall and are associated with the anterior jugular vein at the level of the right sternoclavicular junction. Left subclavian vein collapsed (chronic occlusion pathology?). Trachea, both main bronchi are open. Calcific plaques are observed in the aortic arch. Other mediastinal main vascular structures, heart contour, size are normal. Thoracic aorta diameter is normal. Pericardial effusion-thickening was not observed. Thoracic esophagus calibration was normal and no significant tumoral wall thickening was detected. No enlarged lymph nodes in prevascular, pre-paratracheal, subcarinal or bilateral hilar-axillary pathological dimensions were detected. When examined in the lung parenchyma window; Linear atelectasis is present in both lung parenchyma. Subsegmental atelectasis is observed in the right middle lobe. Thickening of the bronchial wall and peribronchial budding tree-like reticulonodular densities are observed in the bilateral lower lobes. Peribronchial minimal consolidation is seen in the lower lobes in places. The findings were evaluated primarily in favor of the infectious process. The left kidney partially entering the section is atrophic. The right kidney could not be evaluated because it did not enter the section. Other upper abdominal organs included in the sections are normal. No space-occupying lesion was detected in the liver that entered the cross-sectional area. Bilateral adrenal glands were normal and no space-occupying lesion was detected. There are osteophytes with anterior extension in the thoracic vertebrae.\"\n",
        "impressions=\"Multiple venous collaterals in the anterior left chest wall and collapsed appearance in the left subclavian vein (chronic occlusion?).  Thickening of the bronchial wall in both lungs.  Peribronchial reticulonodular densities in the lower lobes, minimal consolidations (infection process?).  Atelectasis in both lungs.  Thoracic spondylosis.\"\n",
        "description=\"Arterial wall calcification, Atelectasis, Lung opacity, Consolidation\"\n",
        "nifti_file = '../data/nifti/ct-rate/img_256_standard/train_1_a_1_sample_2.nii.gz'\n",
        "output_folder = '../data/nifti/ct-rate/train/train_1_a_1/generated/train_1_a_1_sample_2/'\n",
        "nifti_to_dicom(nifti_file=nifti_file, \n",
        "               output_folder=output_folder,\n",
        "               series_description=impressions, \n",
        "               modality = \"AI\",\n",
        "               study_instance_uid='1.1.4',\n",
        "               study_id='4', \n",
        "               accession_number='1.1',\n",
        "               patient_name=\"Example Patient 1\",\n",
        "               patient_id=\"train_1_a_1\",\n",
        "               description=description,\n",
        ")\n"
      ]
    },
    {
      "cell_type": "markdown",
      "metadata": {},
      "source": [
        "## Example 2\n",
        "- Arterial wall calcification\n",
        "- Coronary artery wall calcification\n",
        "- Lymphadenopathy\n",
        "- Lung nodule\n",
        "- Lung opacity\n"
      ]
    },
    {
      "cell_type": "markdown",
      "metadata": {},
      "source": [
        "### Original "
      ]
    },
    {
      "cell_type": "code",
      "execution_count": 151,
      "metadata": {},
      "outputs": [
        {
          "name": "stderr",
          "output_type": "stream",
          "text": [
            "c:\\Users\\mot99\\miniconda3\\envs\\ohif-python\\Lib\\site-packages\\pydicom\\valuerep.py:443: UserWarning: The value length (107) exceeds the maximum length of 64 allowed for VR LO.\n",
            "  warnings.warn(msg)\n"
          ]
        },
        {
          "name": "stdout",
          "output_type": "stream",
          "text": [
            "Conversion complete. DICOM files are saved in ../data/nifti/ct-rate/train/train_10_a_1/original/\n",
            "Deleted Study: e94cf2d2-7113de91-fd2e8a3f-86f8beb5-87c8aeaf\n",
            "Files Uploaded to Orthanc Server Localhost\n"
          ]
        }
      ],
      "source": [
        "\n",
        "findings = \"Trachea, both main bronchi are open. Mediastinal main vascular structures, heart contour, size are normal. Pericardial effusion-thickening was not observed. Calcific plaques are present in the coronary arteries. Thoracic esophagus calibration was normal and no significant pathological wall thickening was detected. Millimetric lymph nodes with a short axis not exceeding 1 cm are observed in the mediastinum. When examined in the lung parenchyma window; Widespread ground glass densities are observed in both lung parenchyma showing a tendency to central and peripheral fusion. A 5 mm calcific nodule was observed in the posterobasal region of the lower lobe of the right lung. A millimetric hypodense lesion was observed in segment 2 of the liver in the upper abdominal organs included in the sections. Bone structures in the study area are natural. Osteodegenerative changes are observed in the vertebrae.\"\n",
        "impressions=\" Findings compatible with Covid pneumonia  Aortic and coronary artery atherosclerosis  Hypodense lesion (cyst?) in liver segment 2\"\n",
        "description= \"Arterial wall calcification, Coronary artery wall calcification, Lymphadenopathy, Lung nodule, Lung opacity\"\n",
        "nifti_file = '../data/nifti/ct-rate/train/train_10_a_1.nii.gz'\n",
        "output_folder = '../data/nifti/ct-rate/train/train_10_a_1/original/'\n",
        "nifti_to_dicom(nifti_file=nifti_file, \n",
        "               output_folder=output_folder,\n",
        "               series_description=\"\", \n",
        "               modality = \"CT\",\n",
        "               study_instance_uid='1.2.1',\n",
        "               study_id='1', \n",
        "               accession_number='1.2',\n",
        "               patient_name=\"Example Patient 2\",\n",
        "               patient_id=\"train_10_a_1\",\n",
        "               description= description,\n",
        "\n",
        "               )\n"
      ]
    },
    {
      "cell_type": "markdown",
      "metadata": {},
      "source": [
        "### Generated"
      ]
    },
    {
      "cell_type": "code",
      "execution_count": 152,
      "metadata": {},
      "outputs": [
        {
          "name": "stderr",
          "output_type": "stream",
          "text": [
            "c:\\Users\\mot99\\miniconda3\\envs\\ohif-python\\Lib\\site-packages\\pydicom\\valuerep.py:443: UserWarning: The value length (130) exceeds the maximum length of 64 allowed for VR LO.\n",
            "  warnings.warn(msg)\n"
          ]
        },
        {
          "name": "stdout",
          "output_type": "stream",
          "text": [
            "Conversion complete. DICOM files are saved in ../data/nifti/ct-rate/train/train_10_a_1/generated/\n",
            "Deleted Study: 9b7f98bf-7ed15aba-acea0869-84845525-7575de6c\n",
            "Files Uploaded to Orthanc Server Localhost\n"
          ]
        }
      ],
      "source": [
        "findings = \"Trachea, both main bronchi are open. Mediastinal main vascular structures, heart contour, size are normal. Pericardial effusion-thickening was not observed. Calcific plaques are present in the coronary arteries. Thoracic esophagus calibration was normal and no significant pathological wall thickening was detected. Millimetric lymph nodes with a short axis not exceeding 1 cm are observed in the mediastinum. When examined in the lung parenchyma window; Widespread ground glass densities are observed in both lung parenchyma showing a tendency to central and peripheral fusion. A 5 mm calcific nodule was observed in the posterobasal region of the lower lobe of the right lung. A millimetric hypodense lesion was observed in segment 2 of the liver in the upper abdominal organs included in the sections. Bone structures in the study area are natural. Osteodegenerative changes are observed in the vertebrae.\"\n",
        "impressions=\" Findings compatible with Covid pneumonia  Aortic and coronary artery atherosclerosis  Hypodense lesion (cyst?) in liver segment 2\"\n",
        "description= \"Arterial wall calcification, Coronary artery wall calcification, Lymphadenopathy, Lung nodule, Lung opacity\"\n",
        "nifti_file = '../data/nifti/ct-rate/img_256_standard/train_10_a_1_sample_0.nii.gz'\n",
        "output_folder = '../data/nifti/ct-rate/train/train_10_a_1/generated/'\n",
        "nifti_to_dicom(nifti_file=nifti_file, \n",
        "               output_folder=output_folder,\n",
        "               series_description=impressions, \n",
        "               modality = \"AI\",\n",
        "               study_instance_uid='1.2.2',\n",
        "               study_id='2', \n",
        "               accession_number='1.2',\n",
        "               patient_name=\"Example Patient 2\",\n",
        "               patient_id=\"train_10_a_1\",\n",
        "               description= description,\n",
        "\n",
        "               )\n"
      ]
    },
    {
      "cell_type": "markdown",
      "metadata": {},
      "source": [
        "# Example 3\n",
        "- (Medical material)\n",
        "- Pericardial effusion\n",
        "- Emphysema\n",
        "- Atelectasis\n",
        "- Lung nodule\n",
        "- Pleural effusion\n",
        "- Consolidation\n"
      ]
    },
    {
      "cell_type": "markdown",
      "metadata": {},
      "source": [
        "### Original "
      ]
    },
    {
      "cell_type": "code",
      "execution_count": 153,
      "metadata": {},
      "outputs": [
        {
          "name": "stderr",
          "output_type": "stream",
          "text": [
            "c:\\Users\\mot99\\miniconda3\\envs\\ohif-python\\Lib\\site-packages\\pydicom\\valuerep.py:443: UserWarning: The value length (90) exceeds the maximum length of 64 allowed for VR LO.\n",
            "  warnings.warn(msg)\n"
          ]
        },
        {
          "name": "stdout",
          "output_type": "stream",
          "text": [
            "Conversion complete. DICOM files are saved in ../data/nifti/ct-rate/train/train_100_a_1/original/\n",
            "Deleted Study: 0f3fe58a-fdfc6ac0-0e8d76f1-cfcc5847-f520f5cb\n",
            "Files Uploaded to Orthanc Server Localhost\n"
          ]
        }
      ],
      "source": [
        "\n",
        "findings = \"A central venous catheter inserted from the right was observed. Trachea and both main bronchi are open and no obstructive pathology is detected. Mediastinal vascular structures and cardiac examination could not be evaluated optimally due to the lack of contrast. The pulmonary trunk caliber was measured at 30 mm and was wider than normal. Heart contour, the size is natural. There is minimal pericardial effusion. The effusion measuring approximately 80 mm in size is observed on the right. There is an area of increased density in the lung parenchyma adjacent to the effusion, which is considered secondary to compressive atelectasis. No pathological increase in wall thickness was observed in the thoracic esophagus. In the mediastinum, in both axillary regions and in the supraclavicular fossa, no lymph nodes were observed in pathological size and appearance. In the lower lobe of the left lung, there is an area of increase in density consistent with the consolidation observed in the air bronchograms. Although the appearance may be secondary to atelectasis, underlying pneumonic infiltration cannot be excluded. It is recommended to be evaluated together with clinical and laboratory findings. No mass lesion was observed in both lungs. There are a few millimetric nodules in the left lung, the largest of which is 5.5x3.5 mm in the upper lobe inferior lingular segment. Emphysematous changes were observed in both lungs. There are findings consistent with peritoneal carcinomatosis in the upper abdominal sections within the image, and hypodense lesions in the liver and spleen parenchyma that cannot be characterized in this examination. No lytic or destructive lesions were detected in the bone structures within the image.\"\n",
        "impressions=\"Right pleural effusion, area of increased density in the adjacent lung parenchyma evaluated in favor of compressive atelectasis.  Density increase area in the lower lobe of the left lung consistent with the consolidation observed in air bronchograms; Pneumonic infiltration, which may be related to atelectasis, cannot be excluded. It is recommended to be evaluated together with clinical and laboratory findings.  A few millimetric nodules in the left lung.\"\n",
        "description= \"Pericardial effusion, Emphysema, Atelectasis, Lung nodule, Pleural effusion, Consolidation\"\n",
        "nifti_file = '../data/nifti/ct-rate/train/train_100_a_1.nii.gz'\n",
        "output_folder = '../data/nifti/ct-rate/train/train_100_a_1/original/'\n",
        "nifti_to_dicom(nifti_file=nifti_file, \n",
        "               output_folder=output_folder,\n",
        "               series_description=\"\", \n",
        "               modality = \"CT\",\n",
        "               study_instance_uid='1.3.1',\n",
        "               study_id='1', \n",
        "               accession_number='1.3',\n",
        "               patient_name=\"Example Patient 3\",\n",
        "               patient_id=\"train_100_a_1\",\n",
        "               description= description,\n",
        "\n",
        "               )"
      ]
    },
    {
      "cell_type": "markdown",
      "metadata": {},
      "source": [
        "### Generated"
      ]
    },
    {
      "cell_type": "code",
      "execution_count": 154,
      "metadata": {},
      "outputs": [
        {
          "name": "stderr",
          "output_type": "stream",
          "text": [
            "c:\\Users\\mot99\\miniconda3\\envs\\ohif-python\\Lib\\site-packages\\pydicom\\valuerep.py:443: UserWarning: The value length (458) exceeds the maximum length of 64 allowed for VR LO.\n",
            "  warnings.warn(msg)\n"
          ]
        },
        {
          "name": "stdout",
          "output_type": "stream",
          "text": [
            "Conversion complete. DICOM files are saved in ../data/nifti/ct-rate/train/train_100_a_1/generated/\n",
            "Deleted Study: da6aab70-a534ccc1-f2dbe1c6-56ee2620-67514332\n",
            "Files Uploaded to Orthanc Server Localhost\n"
          ]
        }
      ],
      "source": [
        "findings = \"A central venous catheter inserted from the right was observed. Trachea and both main bronchi are open and no obstructive pathology is detected. Mediastinal vascular structures and cardiac examination could not be evaluated optimally due to the lack of contrast. The pulmonary trunk caliber was measured at 30 mm and was wider than normal. Heart contour, the size is natural. There is minimal pericardial effusion. The effusion measuring approximately 80 mm in size is observed on the right. There is an area of increased density in the lung parenchyma adjacent to the effusion, which is considered secondary to compressive atelectasis. No pathological increase in wall thickness was observed in the thoracic esophagus. In the mediastinum, in both axillary regions and in the supraclavicular fossa, no lymph nodes were observed in pathological size and appearance. In the lower lobe of the left lung, there is an area of increase in density consistent with the consolidation observed in the air bronchograms. Although the appearance may be secondary to atelectasis, underlying pneumonic infiltration cannot be excluded. It is recommended to be evaluated together with clinical and laboratory findings. No mass lesion was observed in both lungs. There are a few millimetric nodules in the left lung, the largest of which is 5.5x3.5 mm in the upper lobe inferior lingular segment. Emphysematous changes were observed in both lungs. There are findings consistent with peritoneal carcinomatosis in the upper abdominal sections within the image, and hypodense lesions in the liver and spleen parenchyma that cannot be characterized in this examination. No lytic or destructive lesions were detected in the bone structures within the image.\"\n",
        "impressions=\"Right pleural effusion, area of increased density in the adjacent lung parenchyma evaluated in favor of compressive atelectasis.  Density increase area in the lower lobe of the left lung consistent with the consolidation observed in air bronchograms; Pneumonic infiltration, which may be related to atelectasis, cannot be excluded. It is recommended to be evaluated together with clinical and laboratory findings.  A few millimetric nodules in the left lung.\"\n",
        "description= \"Pericardial effusion, Emphysema, Atelectasis, Lung nodule, Pleural effusion, Consolidation\"\n",
        "nifti_file = '../data/nifti/ct-rate/img_256_standard/train_100_a_1_sample_0.nii.gz'\n",
        "output_folder = '../data/nifti/ct-rate/train/train_100_a_1/generated/'\n",
        "nifti_to_dicom(nifti_file=nifti_file, \n",
        "               output_folder=output_folder,\n",
        "               series_description=impressions, \n",
        "               modality = \"AI\",\n",
        "               study_instance_uid='1.3.2',\n",
        "               study_id='2', \n",
        "               accession_number='1.3',\n",
        "               patient_name=\"Example Patient 3\",\n",
        "               patient_id=\"train_100_a_1\",\n",
        "               description= description,\n",
        "               )"
      ]
    },
    {
      "cell_type": "markdown",
      "metadata": {},
      "source": [
        "# Example 4\n",
        "- Lung nodule\n"
      ]
    },
    {
      "cell_type": "markdown",
      "metadata": {},
      "source": [
        "### Original "
      ]
    },
    {
      "cell_type": "code",
      "execution_count": 155,
      "metadata": {},
      "outputs": [
        {
          "name": "stdout",
          "output_type": "stream",
          "text": [
            "Conversion complete. DICOM files are saved in ../data/nifti/ct-rate/train/train_1000_a_1/original/\n",
            "Deleted Study: 90b692ad-11a95190-eaaee368-2bee617f-3501974a\n",
            "Files Uploaded to Orthanc Server Localhost\n"
          ]
        }
      ],
      "source": [
        "findings = \"No lymph node was observed in the supraclavicular fossa and axilla in pathological size and appearance. Thyroid gland, left lobe and isthmus are operated. Heart dimensions and compartments appear natural. Pericardial effusion was not detected. Calibrations of mediastinal major vascular structures are natural. No pneumonic infiltration or consolidation area was detected in the lung parenchyma. No suspicious mass or nodular space-occupying lesion was observed in the lung parenchyma. There are a few nonspecific nodules less than 5 mm in diameter. In the evaluation of the upper abdominal organs, including the cross-section, there is a decrease in both kidney sizes and parenchyma thickness. No lytic-destructive lesions were detected in bone structures.\"\n",
        "impressions=\"Thoracic CT examination within normal limits. Decrease in both kidney sizes and parenchyma thickness. Partially thyroidectomized\"\n",
        "description= \"Lung nodule\"\n",
        "nifti_file = '../data/nifti/ct-rate/train/train_1000_a_1.nii.gz'\n",
        "output_folder = '../data/nifti/ct-rate/train/train_1000_a_1/original/'\n",
        "\n",
        "nifti_to_dicom(nifti_file=nifti_file,\n",
        "               output_folder=output_folder,\n",
        "               series_description=\"\", \n",
        "               modality = \"CT\",\n",
        "               study_instance_uid='1.4.1',\n",
        "               study_id='1', \n",
        "               accession_number='1.4',\n",
        "               patient_name=\"Example Patient 4\",\n",
        "               patient_id=\"train_1000_a_1\",\n",
        "               description= description\n",
        "               )"
      ]
    },
    {
      "cell_type": "markdown",
      "metadata": {},
      "source": [
        "## Generated"
      ]
    },
    {
      "cell_type": "code",
      "execution_count": 156,
      "metadata": {},
      "outputs": [
        {
          "name": "stderr",
          "output_type": "stream",
          "text": [
            "c:\\Users\\mot99\\miniconda3\\envs\\ohif-python\\Lib\\site-packages\\pydicom\\valuerep.py:443: UserWarning: The value length (128) exceeds the maximum length of 64 allowed for VR LO.\n",
            "  warnings.warn(msg)\n"
          ]
        },
        {
          "name": "stdout",
          "output_type": "stream",
          "text": [
            "Conversion complete. DICOM files are saved in ../data/nifti/ct-rate/train/train_1000_a_1/generated/\n",
            "Deleted Study: 823a3e2c-e9c2f62f-d46ea046-0b2c81b9-c222a0a5\n",
            "Files Uploaded to Orthanc Server Localhost\n"
          ]
        }
      ],
      "source": [
        "findings = \"No lymph node was observed in the supraclavicular fossa and axilla in pathological size and appearance. Thyroid gland, left lobe and isthmus are operated. Heart dimensions and compartments appear natural. Pericardial effusion was not detected. Calibrations of mediastinal major vascular structures are natural. No pneumonic infiltration or consolidation area was detected in the lung parenchyma. No suspicious mass or nodular space-occupying lesion was observed in the lung parenchyma. There are a few nonspecific nodules less than 5 mm in diameter. In the evaluation of the upper abdominal organs, including the cross-section, there is a decrease in both kidney sizes and parenchyma thickness. No lytic-destructive lesions were detected in bone structures.\"\n",
        "impressions=\"Thoracic CT examination within normal limits. Decrease in both kidney sizes and parenchyma thickness. Partially thyroidectomized\"\n",
        "description= \"Lung nodule\"\n",
        "nifti_file = '../data/nifti/ct-rate/img_256_standard/train_1000_a_1_sample_0.nii.gz'\n",
        "output_folder = '../data/nifti/ct-rate/train/train_1000_a_1/generated/'\n",
        "\n",
        "nifti_to_dicom(nifti_file=nifti_file,\n",
        "               output_folder=output_folder,\n",
        "               series_description=impressions, \n",
        "               modality = \"AI\",\n",
        "               study_instance_uid='1.4.2',\n",
        "               study_id='2', \n",
        "               accession_number='1.4',\n",
        "               patient_name=\"Example Patient 4\",\n",
        "               patient_id=\"train_1000_a_1\",\n",
        "               description= description,\n",
        "               )"
      ]
    },
    {
      "cell_type": "markdown",
      "metadata": {},
      "source": [
        "# Example 5\n",
        "- Arterial wall calcification\n",
        "- Cardiomegaly\n",
        "- Pericardial effusion\n",
        "- Atelectasis\n",
        "- Pleural effusion"
      ]
    },
    {
      "cell_type": "markdown",
      "metadata": {},
      "source": [
        "### Original"
      ]
    },
    {
      "cell_type": "code",
      "execution_count": 157,
      "metadata": {},
      "outputs": [
        {
          "name": "stderr",
          "output_type": "stream",
          "text": [
            "c:\\Users\\mot99\\miniconda3\\envs\\ohif-python\\Lib\\site-packages\\pydicom\\valuerep.py:443: UserWarning: The value length (94) exceeds the maximum length of 64 allowed for VR LO.\n",
            "  warnings.warn(msg)\n"
          ]
        },
        {
          "name": "stdout",
          "output_type": "stream",
          "text": [
            "Conversion complete. DICOM files are saved in ../data/nifti/ct-rate/train/train_1001_a_1/original/\n",
            "Deleted Study: 6f92c59b-e099872d-4d3770e2-bc775099-05132126\n",
            "Files Uploaded to Orthanc Server Localhost\n"
          ]
        }
      ],
      "source": [
        "findings = \"The examination of the patient was evaluated by comparing it with the previous pulmonary CT angiography examination. The cardiothoracic ratio increased in favor of the heart. Minimal pericardial and bilateral pleural effusion are observed. Millimetric calcific plaques follow in the aorta. Trachea and both main bronchi are open. No occlusive pathology was detected in the trachea and both main bronchi. No pathologically enlarged lymph nodes were detected in the mediastinum and hilar regions.3.2021. There is an area of atelectasis accompanied by volume loss in the lingular segment of the left lung upper lobe. There are significant increases in interlobular septal thickness in the lower lobes of both lungs on the left. No mass was detected in both lungs. No pathological wall thickness increase was observed in the esophagus within the sections. In the upper abdominal organs within the sections, no mass with distinguishable borders was detected as far as it can be observed within the borders of non-enhanced CT. No lytic-destructive lesions were detected in the bone structures within the sections.\"\n",
        "impressions=\"Cardiomegaly, minimal pericardial-pleural effusion. Consolidation areas in both lung lower lobes prominent on the left; is regressed. Atelectasis in the lingular segment of the left lung\"\n",
        "description= \"Arterial wall calcification, Cardiomegaly, Pericardial effusion, Atelectasis, Pleural effusion\"\n",
        "nifti_file = '../data/nifti/ct-rate/train/train_1001_a_1.nii.gz'\n",
        "output_folder = '../data/nifti/ct-rate/train/train_1001_a_1/original/'\n",
        "nifti_to_dicom(nifti_file=nifti_file, \n",
        "               output_folder=output_folder,\n",
        "               series_description=\"\", \n",
        "               modality = \"CT\",\n",
        "               study_instance_uid='1.5.1',\n",
        "               study_id='1', \n",
        "               accession_number='1.5',\n",
        "               patient_name=\"Example Patient 5\",\n",
        "               patient_id=\"train_1001_a_1\",\n",
        "               description= description,\n",
        "               )\n",
        "\n"
      ]
    },
    {
      "cell_type": "markdown",
      "metadata": {},
      "source": [
        "### Generated"
      ]
    },
    {
      "cell_type": "code",
      "execution_count": 158,
      "metadata": {},
      "outputs": [
        {
          "name": "stdout",
          "output_type": "stream",
          "text": [
            "Conversion complete. DICOM files are saved in ../data/nifti/ct-rate/train/train_1001_a_1/generated/\n",
            "Deleted Study: f1545596-4b1ac5b4-a7b8fd2d-d1787054-176c2477\n",
            "Files Uploaded to Orthanc Server Localhost\n"
          ]
        }
      ],
      "source": [
        "findings = \"The examination of the patient was evaluated by comparing it with the previous pulmonary CT angiography examination. The cardiothoracic ratio increased in favor of the heart. Minimal pericardial and bilateral pleural effusion are observed. Millimetric calcific plaques follow in the aorta. Trachea and both main bronchi are open. No occlusive pathology was detected in the trachea and both main bronchi. No pathologically enlarged lymph nodes were detected in the mediastinum and hilar regions.3.2021. There is an area of atelectasis accompanied by volume loss in the lingular segment of the left lung upper lobe. There are significant increases in interlobular septal thickness in the lower lobes of both lungs on the left. No mass was detected in both lungs. No pathological wall thickness increase was observed in the esophagus within the sections. In the upper abdominal organs within the sections, no mass with distinguishable borders was detected as far as it can be observed within the borders of non-enhanced CT. No lytic-destructive lesions were detected in the bone structures within the sections.\"\n",
        "impressions=\"Cardiomegaly, minimal pericardial-pleural effusion. Consolidation areas in both lung lower lobes prominent on the left; is regressed. Atelectasis in the lingular segment of the left lung\"\n",
        "description=\"Arterial wall calcification, Coronary artery wall calcification, Hiatal hernia, Atelectasis, Lung opacity, Pulmonary fibrotic sequela, Peribronchial thickening, Consolidation, Bronchiectasis\"\n",
        "nifti_file = '../data/nifti/ct-rate/img_256_standard/train_1001_a_1_sample_0.nii.gz'\n",
        "output_folder = '../data/nifti/ct-rate/train/train_1001_a_1/generated/'\n",
        "nifti_to_dicom(nifti_file=nifti_file, \n",
        "               output_folder=output_folder,\n",
        "               series_description=impressions, \n",
        "               modality = \"AI\",\n",
        "               study_instance_uid='1.5.2',\n",
        "               study_id='2', \n",
        "               accession_number='1.5',\n",
        "               patient_name=\"Example Patient 5\",\n",
        "               patient_id=\"train_1001_a_1\",\n",
        "               description=description,\n",
        "               )"
      ]
    },
    {
      "cell_type": "markdown",
      "metadata": {},
      "source": [
        "### Counterfactual"
      ]
    },
    {
      "cell_type": "code",
      "execution_count": 159,
      "metadata": {},
      "outputs": [
        {
          "name": "stdout",
          "output_type": "stream",
          "text": [
            "Conversion complete. DICOM files are saved in ../data/nifti/ct-rate/train/train_1001_a_1_counterf_1/generated/\n",
            "Deleted Study: 8e166ac9-01b7b40c-bdf43ede-a675ddf0-d497dd7c\n",
            "Files Uploaded to Orthanc Server Localhost\n"
          ]
        }
      ],
      "source": [
        "impressions=\"Cardiomegaly, no pericardial-pleural effusion. Consolidation areas in both lung lower lobes prominent on the left; is regressed. Atelectasis in the lingular segment of the left lung\"\n",
        "description=\"Arterial wall calcification, Coronary artery wall calcification, Hiatal hernia, Atelectasis, Lung opacity, Pulmonary fibrotic sequela, Peribronchial thickening, Consolidation, Bronchiectasis\"\n",
        "nifti_file = '../data/nifti/ct-rate/img_256_standard/train_1001_a_1_counterf_1_sample_0.nii.gz'\n",
        "output_folder = '../data/nifti/ct-rate/train/train_1001_a_1_counterf_1/generated/'\n",
        "nifti_to_dicom(nifti_file=nifti_file, \n",
        "               output_folder=output_folder,\n",
        "               series_description=impressions, \n",
        "               modality = \"AI\",\n",
        "               study_instance_uid='1.5.3',\n",
        "               study_id='3', \n",
        "               accession_number='1.5',\n",
        "               patient_name=\"Example Patient 5\",\n",
        "               patient_id=\"train_1001_a_1\",\n",
        "               description=description,\n",
        "               )"
      ]
    },
    {
      "cell_type": "code",
      "execution_count": 160,
      "metadata": {},
      "outputs": [
        {
          "name": "stdout",
          "output_type": "stream",
          "text": [
            "Conversion complete. DICOM files are saved in ../data/nifti/ct-rate/train/train_1001_a_1_counterf_2/generated/\n",
            "Deleted Study: 17b7756e-ae05e7d6-0256b7b6-ba1aeeb7-c290c11b\n",
            "Files Uploaded to Orthanc Server Localhost\n"
          ]
        }
      ],
      "source": [
        "impressions=\"Cardiomegaly, significant pericardial-pleural effusion. Consolidation areas in both lung lower lobes prominent on the left; is regressed. Atelectasis in the lingular segment of the left lung\"\n",
        "description=\"Arterial wall calcification, Coronary artery wall calcification, Hiatal hernia, Atelectasis, Lung opacity, Pulmonary fibrotic sequela, Peribronchial thickening, Consolidation, Bronchiectasis\"\n",
        "nifti_file = '../data/nifti/ct-rate/img_256_standard/train_1001_a_1_counterf_2_sample_0.nii.gz'\n",
        "output_folder = '../data/nifti/ct-rate/train/train_1001_a_1_counterf_2/generated/'\n",
        "nifti_to_dicom(nifti_file=nifti_file, \n",
        "               output_folder=output_folder,\n",
        "               series_description=impressions, \n",
        "               modality = \"AI\",\n",
        "               study_instance_uid='1.5.4',\n",
        "               study_id='4', \n",
        "               accession_number='1.5',\n",
        "               patient_name=\"Example Patient 5\",\n",
        "               patient_id=\"train_1001_a_1\",\n",
        "               description=description,\n",
        "               )"
      ]
    },
    {
      "cell_type": "markdown",
      "metadata": {},
      "source": [
        "# Example 6\n",
        "- Arterial wall calcification\n",
        "- Coronary artery wall calcification\n",
        "- Hiatal hernia\n",
        "- Atelectasis\n",
        "- Lung opacity\n",
        "- Pulmonary fibrotic sequela\n",
        "- Peribronchial thickening\n",
        "- Consolidation\n",
        "- Bronchiectasis"
      ]
    },
    {
      "cell_type": "markdown",
      "metadata": {},
      "source": [
        "### Original"
      ]
    },
    {
      "cell_type": "code",
      "execution_count": 161,
      "metadata": {},
      "outputs": [
        {
          "name": "stdout",
          "output_type": "stream",
          "text": [
            "Conversion complete. DICOM files are saved in ../data/nifti/ct-rate/train/train_101_a_1/original/\n",
            "Deleted Study: 16e9f71b-6fc9830f-bb3c3ebc-0409d07e-63dcfc45\n",
            "Files Uploaded to Orthanc Server Localhost\n"
          ]
        }
      ],
      "source": [
        "findings = \"Trachea was in the midline of both main bronchi and no obstructive pathology was observed in the lumen. The mediastinum could not be evaluated optimally in the non-contrast examination. As far as can be seen; mediastinal main vascular structures, heart contour, size are normal. Pericardial effusion-thickening was not observed. Diffuse atherosclerotic wall calcifications were observed in the thoracic aorta and coronary arteries. Thoracic esophagus calibration was normal and no significant tumoral wall thickening was detected. Sliding type hiatal hernia was observed at the lower end of the esophagus. No pathologically enlarged lymph nodes were detected in the mediastinum. No lymph node was observed in pathological size and appearance in the supraclavicular and axillary fossa. When examined in the lung parenchyma window; In both lungs, ground-glass densities including central-peripheral, crazy paving pattern and consolidation areas showing signs of vascular enlargement were observed. The outlook is consistent with Covid-19 pneumonia. The right hemidiaphragm is elevated. Diffuse linear subsegmental atelectatic changes were observed in the middle and lower lobes of the right lung. There are segmental-subsegmental bronchiectatic changes and peribronchial thickening in both lungs. Sequelae thickening was observed in the posterocostal pleura in both hemithorax. No mass lesion with distinguishable borders was detected in both lungs. A hypodense lesion area of 21x20 mm was observed at the junction of segment 4A-8 at the level of the liver dome and could not be characterized in this examination. The gallbladder was not observed (operated). The right adrenal gland and right kidney were not observed (operated). Diffuse thickening was observed in the left adrenal gland. Within the sections, free fluid-pathological lymph node was not observed in the abdomen. Mild dextroscoliosis with left opening was observed at the thoracic level. At mid-thoracic level, a bridging spur formation is observed in the right anterolateral corners of the vertebrae. Vertebral corpus heights are preserved.\"\n",
        "impressions=\"Diffuse atherosclerotic wall calcifications in the thoracic aorta and coronary arteries.  Hiatal hernia.  Findings consistent with Covid-19 pneumonia in the lung parenchyma.  Elevation in the right hemidiaphragm, linear subsegmental atelectatic changes in the middle and lower lobes of the right lung.  Segmentary-subsegmentary tubular bronchiectasis, peribronchial thickening in both lungs.  Sequela thickening of posterocostal pleura in both hemithorax.  Hypodense lesion at the level of the liver dome (segment 4A-8 junction), which cannot be characterized in this examination.  Diffuse thickening of the left adrenal gland.  Spur formations bridging each other at the mid-thoracic level and mild dextroscoliosis with a secondary left-facing opening\"\n",
        "description=\"Arterial wall calcification, Coronary artery wall calcification, Hiatal hernia, Atelectasis, Lung opacity, Pulmonary fibrotic sequela, Peribronchial thickening, Consolidation, Bronchiectasis\"\n",
        "nifti_file = '../data/nifti/ct-rate/train/train_101_a_1.nii.gz'\n",
        "output_folder = '../data/nifti/ct-rate/train/train_101_a_1/original/'\n",
        "nifti_to_dicom(nifti_file=nifti_file, \n",
        "               output_folder=output_folder,\n",
        "               series_description=\"\", \n",
        "               modality = \"CT\",\n",
        "               study_instance_uid='1.6.1',\n",
        "               study_id='1', \n",
        "               accession_number='1.6',\n",
        "               patient_name=\"Example Patient 6\",\n",
        "               patient_id=\"train_101_a_1\",\n",
        "               description=description,\n",
        "               )"
      ]
    },
    {
      "cell_type": "markdown",
      "metadata": {},
      "source": [
        "### Generated"
      ]
    },
    {
      "cell_type": "code",
      "execution_count": 162,
      "metadata": {},
      "outputs": [
        {
          "name": "stdout",
          "output_type": "stream",
          "text": [
            "Conversion complete. DICOM files are saved in ../data/nifti/ct-rate/train/train_101_a_1/generated/\n",
            "Deleted Study: 16ad0c46-a37caf53-f3025c09-e2f487d3-114db062\n",
            "Files Uploaded to Orthanc Server Localhost\n"
          ]
        }
      ],
      "source": [
        "findings = \"Trachea was in the midline of both main bronchi and no obstructive pathology was observed in the lumen. The mediastinum could not be evaluated optimally in the non-contrast examination. As far as can be seen; mediastinal main vascular structures, heart contour, size are normal. Pericardial effusion-thickening was not observed. Diffuse atherosclerotic wall calcifications were observed in the thoracic aorta and coronary arteries. Thoracic esophagus calibration was normal and no significant tumoral wall thickening was detected. Sliding type hiatal hernia was observed at the lower end of the esophagus. No pathologically enlarged lymph nodes were detected in the mediastinum. No lymph node was observed in pathological size and appearance in the supraclavicular and axillary fossa. When examined in the lung parenchyma window; In both lungs, ground-glass densities including central-peripheral, crazy paving pattern and consolidation areas showing signs of vascular enlargement were observed. The outlook is consistent with Covid-19 pneumonia. The right hemidiaphragm is elevated. Diffuse linear subsegmental atelectatic changes were observed in the middle and lower lobes of the right lung. There are segmental-subsegmental bronchiectatic changes and peribronchial thickening in both lungs. Sequelae thickening was observed in the posterocostal pleura in both hemithorax. No mass lesion with distinguishable borders was detected in both lungs. A hypodense lesion area of 21x20 mm was observed at the junction of segment 4A-8 at the level of the liver dome and could not be characterized in this examination. The gallbladder was not observed (operated). The right adrenal gland and right kidney were not observed (operated). Diffuse thickening was observed in the left adrenal gland. Within the sections, free fluid-pathological lymph node was not observed in the abdomen. Mild dextroscoliosis with left opening was observed at the thoracic level. At mid-thoracic level, a bridging spur formation is observed in the right anterolateral corners of the vertebrae. Vertebral corpus heights are preserved.\"\n",
        "impressions=\"Diffuse atherosclerotic wall calcifications in the thoracic aorta and coronary arteries.  Hiatal hernia.  Findings consistent with Covid-19 pneumonia in the lung parenchyma.  Elevation in the right hemidiaphragm, linear subsegmental atelectatic changes in the middle and lower lobes of the right lung.  Segmentary-subsegmentary tubular bronchiectasis, peribronchial thickening in both lungs.  Sequela thickening of posterocostal pleura in both hemithorax.  Hypodense lesion at the level of the liver dome (segment 4A-8 junction), which cannot be characterized in this examination.  Diffuse thickening of the left adrenal gland.  Spur formations bridging each other at the mid-thoracic level and mild dextroscoliosis with a secondary left-facing opening\"\n",
        "description=\"Arterial wall calcification, Coronary artery wall calcification, Hiatal hernia, Atelectasis, Lung opacity, Pulmonary fibrotic sequela, Peribronchial thickening, Consolidation, Bronchiectasis\"\n",
        "nifti_file = '../data/nifti/ct-rate/img_256_standard/train_101_a_1_sample_0.nii.gz'\n",
        "output_folder = '../data/nifti/ct-rate/train/train_101_a_1/generated/'\n",
        "nifti_to_dicom(nifti_file=nifti_file, \n",
        "               output_folder=output_folder,\n",
        "               series_description=impressions, \n",
        "               modality = \"AI\",\n",
        "               study_instance_uid='1.6.2',\n",
        "               study_id='2', \n",
        "               accession_number='1.6',\n",
        "               patient_name=\"Example Patient 6\",\n",
        "               patient_id=\"train_101_a_1\",\n",
        "               description=description,\n",
        "\n",
        "               )"
      ]
    }
  ],
  "metadata": {
    "kernelspec": {
      "display_name": "Python 3",
      "language": "python",
      "name": "python3"
    },
    "language_info": {
      "codemirror_mode": {
        "name": "ipython",
        "version": 3
      },
      "file_extension": ".py",
      "mimetype": "text/x-python",
      "name": "python",
      "nbconvert_exporter": "python",
      "pygments_lexer": "ipython3",
      "version": "3.12.3"
    }
  },
  "nbformat": 4,
  "nbformat_minor": 0
}
