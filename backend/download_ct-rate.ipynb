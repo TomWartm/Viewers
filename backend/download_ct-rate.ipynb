{
 "cells": [
  {
   "cell_type": "code",
   "execution_count": 21,
   "metadata": {},
   "outputs": [],
   "source": [
    "\n",
    "import pandas as pd\n",
    "from huggingface_hub import hf_hub_download\n",
    "from tqdm import tqdm\n",
    "\n",
    "\n",
    "\n",
    "def download_file(name):\n",
    "  split = 'train'\n",
    "\n",
    "  repo_id = 'ibrahimhamamci/CT-RATE'\n",
    "  directory_name = f'dataset/{split}/'\n",
    "  hf_token = '' # i.e. hf_...\n",
    "\n",
    "\n",
    "\n",
    "\n",
    "\n",
    "  folder1 = name.split('_')[0]\n",
    "  folder2 = name.split('_')[1]\n",
    "  folder = folder1 + '_' + folder2\n",
    "  folder3 = name.split('_')[2]\n",
    "  subfolder = folder + '_' + folder3\n",
    "  subfolder = directory_name + folder + '/' + subfolder\n",
    "\n",
    "  hf_hub_download(\n",
    "      repo_id=repo_id,\n",
    "      repo_type='dataset',\n",
    "      token=hf_token,\n",
    "      subfolder=subfolder,\n",
    "      filename=name,\n",
    "      cache_dir='./',\n",
    "      local_dir='../data/nifti/ct-rate/train',\n",
    "      local_dir_use_symlinks=False,\n",
    ")\n",
    "\n",
    "def print_findings(name):\n",
    "  df = pd.read_csv('../data/nifti/ct-rate/train_reports.csv')\n",
    "  rows = df[df.iloc[:, 0] == name]\n",
    "\n",
    "  pd.set_option('display.max_colwidth', None)\n",
    "  print(\"Findings:\")\n",
    "  print(rows['Findings_EN'].to_string(index=False))\n",
    "  print(\"\\nImpressions:\")\n",
    "  print(rows['Impressions_EN'].to_string(index=False))\n",
    "  pd.reset_option('display.max_colwidth')"
   ]
  },
  {
   "cell_type": "code",
   "execution_count": 22,
   "metadata": {},
   "outputs": [
    {
     "name": "stderr",
     "output_type": "stream",
     "text": [
      "c:\\Users\\mot99\\miniconda3\\envs\\viewer\\Lib\\site-packages\\huggingface_hub\\file_download.py:1212: UserWarning: `local_dir_use_symlinks` parameter is deprecated and will be ignored. The process to download files to a local folder has been updated and do not rely on symlinks anymore. You only need to pass a destination folder as`local_dir`.\n",
      "For more details, check out https://huggingface.co/docs/huggingface_hub/main/en/guides/download#download-files-to-local-folder.\n",
      "  warnings.warn(\n"
     ]
    },
    {
     "name": "stdout",
     "output_type": "stream",
     "text": [
      "Findings:\n",
      "Trachea and lumen of both main bronchi are open. No occlusive pathology was detected in the trachea and lumen of both main bronchi. Mediastinal structures were evaluated as suboptimal since the examination was unenhanced. As far as can be seen; Heart size has increased (cardiomegaly). Mild calcified atherosclerotic changes were observed in the thoracic and coronary artery walls. Pericardial thickening-effusion was not detected. Thoracic esophagus calibration was normal and no significant pathological wall thickening was detected. Sliding type hiatal hernia was observed. No lymph node was detected in mediastinal and bilateral hilar pathological size and appearance. When examined in the lung parenchyma window; Millimetric nonspecific parenchymal nodules were observed in both lungs. No mass nodule-infiltration was detected in both lung parenchyma. No pleural effusion was detected. Upper abdominal sections entering the examination area are natural. Bilateral adrenal gland calibration was normal and no space-occupying lesion was detected. Gallbladder was not observed (cholecystectomized). Diffuse degenerative changes in bone structures, vacuum phenomenon in discs, and metallic posterior fixation materials in the L3 vertebra, which was partially examined, were observed.\n",
      "\n",
      "Impressions:\n",
      "Minimal calcified atherosclerotic changes in the wall of the thoracic aorta and coronary artery. Cardiomegaly. Hiatal hernia. Millimetric sized nonspecific parenchymal nodules in both lungs. Degenerative changes in bone structure.\n"
     ]
    }
   ],
   "source": [
    "name = \"train_69_a_1.nii.gz\"\n",
    "download_file(name)\n",
    "print_findings(name)"
   ]
  }
 ],
 "metadata": {
  "kernelspec": {
   "display_name": "viewer",
   "language": "python",
   "name": "python3"
  },
  "language_info": {
   "codemirror_mode": {
    "name": "ipython",
    "version": 3
   },
   "file_extension": ".py",
   "mimetype": "text/x-python",
   "name": "python",
   "nbconvert_exporter": "python",
   "pygments_lexer": "ipython3",
   "version": "3.12.4"
  }
 },
 "nbformat": 4,
 "nbformat_minor": 2
}
