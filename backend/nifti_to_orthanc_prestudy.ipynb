{
  "cells": [
    {
      "cell_type": "code",
      "execution_count": 1,
      "metadata": {},
      "outputs": [],
      "source": [
        "from dicom_helpers import nifti_to_dicom, add_metadata_to_series"
      ]
    },
    {
      "cell_type": "markdown",
      "metadata": {},
      "source": [
        "# Pre-Study\n"
      ]
    },
    {
      "cell_type": "markdown",
      "metadata": {},
      "source": [
        "### Generated\n"
      ]
    },
    {
      "cell_type": "code",
      "execution_count": 2,
      "metadata": {},
      "outputs": [
        {
          "name": "stdout",
          "output_type": "stream",
          "text": [
            "Store DICOM files in Folder: ../data/nifti/prestudy/img_256_standard/no_sample_0\n",
            "Conversion complete. DICOM files are saved in ../data/nifti/prestudy/img_256_standard/no_sample_0\n",
            "Deleted Study: e0ce999e-036e2d4b-a67f894e-73aaae04-3afe100c\n",
            "Uploading DICOM folder to Orthanc...\n",
            "Files Uploaded to Orthanc Server Localhost\n",
            "e0ce999e-036e2d4b-a67f894e-73aaae04-3afe100c\n"
          ]
        }
      ],
      "source": [
        "# Study 1 > 3.1.5\n",
        "# Study 2 > 3.2.4\n",
        "\n",
        "prompt=\"No pleural effusion.\"\n",
        "description= \"\"\n",
        "nifti_file = '../data/nifti/prestudy/img_256_standard/no_sample_0.nii.gz'\n",
        "\n",
        "\n",
        "nifti_to_dicom(nifti_file=nifti_file,\n",
        "               series_description=\"Generated, 1 (counterfactual)\", \n",
        "               modality = \"AI\",\n",
        "               study_instance_uid='4.1',\n",
        "               series_instance_uid='4.1.1',\n",
        "               study_id='1',\n",
        "               patient_name=\"Example Pre Study\",\n",
        "               patient_id=\"ps1\",\n",
        "               description= description,\n",
        "               )\n",
        "add_metadata_to_series('4.1.1', prompt, 'SeriesPrompt')"
      ]
    },
    {
      "cell_type": "code",
      "execution_count": 7,
      "metadata": {},
      "outputs": [
        {
          "name": "stdout",
          "output_type": "stream",
          "text": [
            "Store DICOM files in Folder: ../data/nifti/MedSynExamples/large_effusion_v2_counterfactual_1_sample_0\n",
            "Conversion complete. DICOM files are saved in ../data/nifti/MedSynExamples/large_effusion_v2_counterfactual_1_sample_0\n",
            "Uploading DICOM folder to Orthanc...\n",
            "Files Uploaded to Orthanc Server Localhost\n",
            "71bef98a-c8549794-44d1ba2d-a82dbf2b-685703ce\n"
          ]
        }
      ],
      "source": [
        "prompt=\"Severe pleural effusion.\"\n",
        "description= \"\"\n",
        "nifti_file = '../data/nifti/MedSynExamples/large_effusion_v2_counterfactual_1_sample_0.nii.gz'\n",
        "\n",
        "\n",
        "nifti_to_dicom(nifti_file=nifti_file,\n",
        "               series_description=\"Generated, 2 (counterfactual)\", \n",
        "               modality = \"AI\",\n",
        "               study_instance_uid='4.1',\n",
        "               series_instance_uid='4.1.2',\n",
        "               study_id='2',\n",
        "               patient_name=\"Example Pre Study\",\n",
        "               patient_id=\"ps1\",\n",
        "               description= description,\n",
        "               )\n",
        "add_metadata_to_series('4.1.2', prompt, 'SeriesPrompt')"
      ]
    }
  ],
  "metadata": {
    "kernelspec": {
      "display_name": "Python 3",
      "language": "python",
      "name": "python3"
    },
    "language_info": {
      "codemirror_mode": {
        "name": "ipython",
        "version": 3
      },
      "file_extension": ".py",
      "mimetype": "text/x-python",
      "name": "python",
      "nbconvert_exporter": "python",
      "pygments_lexer": "ipython3",
      "version": "3.12.3"
    }
  },
  "nbformat": 4,
  "nbformat_minor": 0
}
